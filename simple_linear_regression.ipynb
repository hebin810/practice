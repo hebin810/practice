{
  "nbformat": 4,
  "nbformat_minor": 0,
  "metadata": {
    "colab": {
      "name": "simple linear regression.ipynb",
      "provenance": [],
      "collapsed_sections": [],
      "authorship_tag": "ABX9TyMmbr0UeuhSB3DTBrexmcxv",
      "include_colab_link": true
    },
    "kernelspec": {
      "name": "python3",
      "display_name": "Python 3"
    }
  },
  "cells": [
    {
      "cell_type": "markdown",
      "metadata": {
        "id": "view-in-github",
        "colab_type": "text"
      },
      "source": [
        "<a href=\"https://colab.research.google.com/github/spolopsky/ML-practice/blob/main/simple_linear_regression.ipynb\" target=\"_parent\"><img src=\"https://colab.research.google.com/assets/colab-badge.svg\" alt=\"Open In Colab\"/></a>"
      ]
    },
    {
      "cell_type": "code",
      "metadata": {
        "colab": {
          "base_uri": "https://localhost:8080/"
        },
        "id": "tVeilnqBtgO7",
        "outputId": "99781a0e-043e-481c-ee8a-a15625e6a112"
      },
      "source": [
        "import tensorflow as tf\r\n",
        "tf.compat.v1.enable_eager_execution()\r\n",
        "\r\n",
        "# Data\r\n",
        "x_data = [1,2,3,4,5]\r\n",
        "y_data = [1,2,3,4,5]\r\n",
        "\r\n",
        "# W, b initiate\r\n",
        "W = tf.Variable(2.9)\r\n",
        "b = tf.Variable(0.5)\r\n",
        "\r\n",
        "learning_rate = 0.01\r\n",
        "\r\n",
        "print(\"{:^10}|{:^10}|{:^10}|{:^10}\".format(\"try_num\", \"W_value\", \"b_value\", \"cost\"))\r\n",
        "for i in range(100 + 1): # W, b update\r\n",
        "#Gradient descent\r\n",
        "    with tf.GradientTape() as tape:\r\n",
        "      hypothesis = W * x_data + b\r\n",
        "      cost = tf.reduce_mean(tf.square(hypothesis - y_data))\r\n",
        "    W_grad, b_grad = tape.gradient(cost, [W,b])\r\n",
        "    W.assign_sub(learning_rate * W_grad)\r\n",
        "    b.assign_sub(learning_rate * b_grad)\r\n",
        "    if i % 10 == 0:\r\n",
        "      print(\"{:^10}|{:^10.4f}|{:^10.4}|{:^10.6f}\".format(i, W.numpy(), b.numpy(), cost))\r\n"
      ],
      "execution_count": 5,
      "outputs": [
        {
          "output_type": "stream",
          "text": [
            " try_num  | W_value  | b_value  |   cost   \n",
            "    0     |  2.4520  |  0.376   |45.660004 \n",
            "    10    |  1.1036  | 0.003398 | 0.206336 \n",
            "    20    |  1.0128  | -0.02091 | 0.001026 \n",
            "    30    |  1.0065  | -0.02184 | 0.000093 \n",
            "    40    |  1.0059  | -0.02123 | 0.000083 \n",
            "    50    |  1.0057  | -0.02053 | 0.000077 \n",
            "    60    |  1.0055  | -0.01984 | 0.000072 \n",
            "    70    |  1.0053  | -0.01918 | 0.000067 \n",
            "    80    |  1.0051  | -0.01854 | 0.000063 \n",
            "    90    |  1.0050  | -0.01793 | 0.000059 \n",
            "   100    |  1.0048  | -0.01733 | 0.000055 \n"
          ],
          "name": "stdout"
        }
      ]
    }
  ]
}