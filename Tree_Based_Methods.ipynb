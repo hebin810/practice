{
  "nbformat": 4,
  "nbformat_minor": 0,
  "metadata": {
    "colab": {
      "name": "Tree-Based Methods.ipynb",
      "provenance": [],
      "authorship_tag": "ABX9TyOiB9GTYsPMzCTmvPtQFfXj",
      "include_colab_link": true
    },
    "kernelspec": {
      "name": "python3",
      "display_name": "Python 3"
    },
    "language_info": {
      "name": "python"
    }
  },
  "cells": [
    {
      "cell_type": "markdown",
      "metadata": {
        "id": "view-in-github",
        "colab_type": "text"
      },
      "source": [
        "<a href=\"https://colab.research.google.com/github/splopsky/ML-practice/blob/main/Tree_Based_Methods.ipynb\" target=\"_parent\"><img src=\"https://colab.research.google.com/assets/colab-badge.svg\" alt=\"Open In Colab\"/></a>"
      ]
    },
    {
      "cell_type": "code",
      "metadata": {
        "colab": {
          "base_uri": "https://localhost:8080/"
        },
        "id": "cIGggGXezkxd",
        "outputId": "3a57479e-eecf-4908-b8ac-ae72fec74ba1"
      },
      "source": [
        "from google.colab import drive\n",
        "drive.mount('/content/drive')"
      ],
      "execution_count": 2,
      "outputs": [
        {
          "output_type": "stream",
          "text": [
            "Mounted at /content/drive\n"
          ],
          "name": "stdout"
        }
      ]
    },
    {
      "cell_type": "code",
      "metadata": {
        "id": "OMjaCDJ21c5K"
      },
      "source": [
        "# imports and setup\n",
        "%matplotlib inline\n",
        "\n",
        "import numpy as np\n",
        "import pandas as pd\n",
        "\n",
        "import seaborn as sns\n",
        "import matplotlib.pyplot as plt\n",
        "\n",
        "pd.set_option('precision', 4) # number precision for pandas\n",
        "pd.set_option('display.max_rows', 12)\n",
        "pd.set_option('display.max_columns', 12)\n",
        "pd.set_option('display.float_format', '{:20,.5f}'.format) # get rid of scientific notation\n",
        "\n",
        "plt.style.use('seaborn') # pretty matplotlib plots"
      ],
      "execution_count": 3,
      "outputs": []
    },
    {
      "cell_type": "markdown",
      "metadata": {
        "id": "GnJOPuDd2JcI"
      },
      "source": [
        "###8.3.1 Fitting Classification Trees"
      ]
    },
    {
      "cell_type": "code",
      "metadata": {
        "colab": {
          "base_uri": "https://localhost:8080/",
          "height": 427
        },
        "id": "Otx8QRBDzgDj",
        "outputId": "d3bda351-b6cd-45c3-faf9-d89648ba0478"
      },
      "source": [
        "carseats = pd.read_csv('/content/drive/MyDrive/datasets/Carseats.csv', index_col=0)\n",
        "carseats['High'] = (carseats['Sales'] > 8).map({True: 'Yes', False: 'No' })\n",
        "carseats.loc[:, ['ShelveLoc', 'Urban', 'US', 'High']].apply(pd.Categorical)\n",
        "carseats"
      ],
      "execution_count": 4,
      "outputs": [
        {
          "output_type": "execute_result",
          "data": {
            "text/html": [
              "<div>\n",
              "<style scoped>\n",
              "    .dataframe tbody tr th:only-of-type {\n",
              "        vertical-align: middle;\n",
              "    }\n",
              "\n",
              "    .dataframe tbody tr th {\n",
              "        vertical-align: top;\n",
              "    }\n",
              "\n",
              "    .dataframe thead th {\n",
              "        text-align: right;\n",
              "    }\n",
              "</style>\n",
              "<table border=\"1\" class=\"dataframe\">\n",
              "  <thead>\n",
              "    <tr style=\"text-align: right;\">\n",
              "      <th></th>\n",
              "      <th>Sales</th>\n",
              "      <th>CompPrice</th>\n",
              "      <th>Income</th>\n",
              "      <th>Advertising</th>\n",
              "      <th>Population</th>\n",
              "      <th>Price</th>\n",
              "      <th>ShelveLoc</th>\n",
              "      <th>Age</th>\n",
              "      <th>Education</th>\n",
              "      <th>Urban</th>\n",
              "      <th>US</th>\n",
              "      <th>High</th>\n",
              "    </tr>\n",
              "  </thead>\n",
              "  <tbody>\n",
              "    <tr>\n",
              "      <th>1</th>\n",
              "      <td>9.50000</td>\n",
              "      <td>138</td>\n",
              "      <td>73</td>\n",
              "      <td>11</td>\n",
              "      <td>276</td>\n",
              "      <td>120</td>\n",
              "      <td>Bad</td>\n",
              "      <td>42</td>\n",
              "      <td>17</td>\n",
              "      <td>Yes</td>\n",
              "      <td>Yes</td>\n",
              "      <td>Yes</td>\n",
              "    </tr>\n",
              "    <tr>\n",
              "      <th>2</th>\n",
              "      <td>11.22000</td>\n",
              "      <td>111</td>\n",
              "      <td>48</td>\n",
              "      <td>16</td>\n",
              "      <td>260</td>\n",
              "      <td>83</td>\n",
              "      <td>Good</td>\n",
              "      <td>65</td>\n",
              "      <td>10</td>\n",
              "      <td>Yes</td>\n",
              "      <td>Yes</td>\n",
              "      <td>Yes</td>\n",
              "    </tr>\n",
              "    <tr>\n",
              "      <th>3</th>\n",
              "      <td>10.06000</td>\n",
              "      <td>113</td>\n",
              "      <td>35</td>\n",
              "      <td>10</td>\n",
              "      <td>269</td>\n",
              "      <td>80</td>\n",
              "      <td>Medium</td>\n",
              "      <td>59</td>\n",
              "      <td>12</td>\n",
              "      <td>Yes</td>\n",
              "      <td>Yes</td>\n",
              "      <td>Yes</td>\n",
              "    </tr>\n",
              "    <tr>\n",
              "      <th>4</th>\n",
              "      <td>7.40000</td>\n",
              "      <td>117</td>\n",
              "      <td>100</td>\n",
              "      <td>4</td>\n",
              "      <td>466</td>\n",
              "      <td>97</td>\n",
              "      <td>Medium</td>\n",
              "      <td>55</td>\n",
              "      <td>14</td>\n",
              "      <td>Yes</td>\n",
              "      <td>Yes</td>\n",
              "      <td>No</td>\n",
              "    </tr>\n",
              "    <tr>\n",
              "      <th>5</th>\n",
              "      <td>4.15000</td>\n",
              "      <td>141</td>\n",
              "      <td>64</td>\n",
              "      <td>3</td>\n",
              "      <td>340</td>\n",
              "      <td>128</td>\n",
              "      <td>Bad</td>\n",
              "      <td>38</td>\n",
              "      <td>13</td>\n",
              "      <td>Yes</td>\n",
              "      <td>No</td>\n",
              "      <td>No</td>\n",
              "    </tr>\n",
              "    <tr>\n",
              "      <th>...</th>\n",
              "      <td>...</td>\n",
              "      <td>...</td>\n",
              "      <td>...</td>\n",
              "      <td>...</td>\n",
              "      <td>...</td>\n",
              "      <td>...</td>\n",
              "      <td>...</td>\n",
              "      <td>...</td>\n",
              "      <td>...</td>\n",
              "      <td>...</td>\n",
              "      <td>...</td>\n",
              "      <td>...</td>\n",
              "    </tr>\n",
              "    <tr>\n",
              "      <th>396</th>\n",
              "      <td>12.57000</td>\n",
              "      <td>138</td>\n",
              "      <td>108</td>\n",
              "      <td>17</td>\n",
              "      <td>203</td>\n",
              "      <td>128</td>\n",
              "      <td>Good</td>\n",
              "      <td>33</td>\n",
              "      <td>14</td>\n",
              "      <td>Yes</td>\n",
              "      <td>Yes</td>\n",
              "      <td>Yes</td>\n",
              "    </tr>\n",
              "    <tr>\n",
              "      <th>397</th>\n",
              "      <td>6.14000</td>\n",
              "      <td>139</td>\n",
              "      <td>23</td>\n",
              "      <td>3</td>\n",
              "      <td>37</td>\n",
              "      <td>120</td>\n",
              "      <td>Medium</td>\n",
              "      <td>55</td>\n",
              "      <td>11</td>\n",
              "      <td>No</td>\n",
              "      <td>Yes</td>\n",
              "      <td>No</td>\n",
              "    </tr>\n",
              "    <tr>\n",
              "      <th>398</th>\n",
              "      <td>7.41000</td>\n",
              "      <td>162</td>\n",
              "      <td>26</td>\n",
              "      <td>12</td>\n",
              "      <td>368</td>\n",
              "      <td>159</td>\n",
              "      <td>Medium</td>\n",
              "      <td>40</td>\n",
              "      <td>18</td>\n",
              "      <td>Yes</td>\n",
              "      <td>Yes</td>\n",
              "      <td>No</td>\n",
              "    </tr>\n",
              "    <tr>\n",
              "      <th>399</th>\n",
              "      <td>5.94000</td>\n",
              "      <td>100</td>\n",
              "      <td>79</td>\n",
              "      <td>7</td>\n",
              "      <td>284</td>\n",
              "      <td>95</td>\n",
              "      <td>Bad</td>\n",
              "      <td>50</td>\n",
              "      <td>12</td>\n",
              "      <td>Yes</td>\n",
              "      <td>Yes</td>\n",
              "      <td>No</td>\n",
              "    </tr>\n",
              "    <tr>\n",
              "      <th>400</th>\n",
              "      <td>9.71000</td>\n",
              "      <td>134</td>\n",
              "      <td>37</td>\n",
              "      <td>0</td>\n",
              "      <td>27</td>\n",
              "      <td>120</td>\n",
              "      <td>Good</td>\n",
              "      <td>49</td>\n",
              "      <td>16</td>\n",
              "      <td>Yes</td>\n",
              "      <td>Yes</td>\n",
              "      <td>Yes</td>\n",
              "    </tr>\n",
              "  </tbody>\n",
              "</table>\n",
              "<p>400 rows × 12 columns</p>\n",
              "</div>"
            ],
            "text/plain": [
              "                   Sales  CompPrice  Income  Advertising  Population  Price  \\\n",
              "1                9.50000        138      73           11         276    120   \n",
              "2               11.22000        111      48           16         260     83   \n",
              "3               10.06000        113      35           10         269     80   \n",
              "4                7.40000        117     100            4         466     97   \n",
              "5                4.15000        141      64            3         340    128   \n",
              "..                   ...        ...     ...          ...         ...    ...   \n",
              "396             12.57000        138     108           17         203    128   \n",
              "397              6.14000        139      23            3          37    120   \n",
              "398              7.41000        162      26           12         368    159   \n",
              "399              5.94000        100      79            7         284     95   \n",
              "400              9.71000        134      37            0          27    120   \n",
              "\n",
              "    ShelveLoc  Age  Education Urban   US High  \n",
              "1         Bad   42         17   Yes  Yes  Yes  \n",
              "2        Good   65         10   Yes  Yes  Yes  \n",
              "3      Medium   59         12   Yes  Yes  Yes  \n",
              "4      Medium   55         14   Yes  Yes   No  \n",
              "5         Bad   38         13   Yes   No   No  \n",
              "..        ...  ...        ...   ...  ...  ...  \n",
              "396      Good   33         14   Yes  Yes  Yes  \n",
              "397    Medium   55         11    No  Yes   No  \n",
              "398    Medium   40         18   Yes  Yes   No  \n",
              "399       Bad   50         12   Yes  Yes   No  \n",
              "400      Good   49         16   Yes  Yes  Yes  \n",
              "\n",
              "[400 rows x 12 columns]"
            ]
          },
          "metadata": {
            "tags": []
          },
          "execution_count": 4
        }
      ]
    },
    {
      "cell_type": "markdown",
      "metadata": {
        "id": "H5x9k7qs2yRF"
      },
      "source": [
        "Encoding for converting each text category to numbers"
      ]
    },
    {
      "cell_type": "code",
      "metadata": {
        "colab": {
          "base_uri": "https://localhost:8080/",
          "height": 427
        },
        "id": "brqHrwPB2249",
        "outputId": "10b97199-f986-488e-954e-e9a3e5d602fe"
      },
      "source": [
        "from sklearn.preprocessing import OneHotEncoder, LabelEncoder\n",
        "\n",
        "le = LabelEncoder()\n",
        "carseats['ShelveLoc'] = le.fit_transform(carseats['ShelveLoc'])\n",
        "carseats['Urban'] = le.fit_transform(carseats['Urban'])\n",
        "carseats['US'] = le.fit_transform(carseats['US'])\n",
        "\n",
        "X = carseats.loc[:, 'CompPrice':'US']\n",
        "y = carseats.loc[:, 'High']\n",
        "carseats\n"
      ],
      "execution_count": 5,
      "outputs": [
        {
          "output_type": "execute_result",
          "data": {
            "text/html": [
              "<div>\n",
              "<style scoped>\n",
              "    .dataframe tbody tr th:only-of-type {\n",
              "        vertical-align: middle;\n",
              "    }\n",
              "\n",
              "    .dataframe tbody tr th {\n",
              "        vertical-align: top;\n",
              "    }\n",
              "\n",
              "    .dataframe thead th {\n",
              "        text-align: right;\n",
              "    }\n",
              "</style>\n",
              "<table border=\"1\" class=\"dataframe\">\n",
              "  <thead>\n",
              "    <tr style=\"text-align: right;\">\n",
              "      <th></th>\n",
              "      <th>Sales</th>\n",
              "      <th>CompPrice</th>\n",
              "      <th>Income</th>\n",
              "      <th>Advertising</th>\n",
              "      <th>Population</th>\n",
              "      <th>Price</th>\n",
              "      <th>ShelveLoc</th>\n",
              "      <th>Age</th>\n",
              "      <th>Education</th>\n",
              "      <th>Urban</th>\n",
              "      <th>US</th>\n",
              "      <th>High</th>\n",
              "    </tr>\n",
              "  </thead>\n",
              "  <tbody>\n",
              "    <tr>\n",
              "      <th>1</th>\n",
              "      <td>9.50000</td>\n",
              "      <td>138</td>\n",
              "      <td>73</td>\n",
              "      <td>11</td>\n",
              "      <td>276</td>\n",
              "      <td>120</td>\n",
              "      <td>0</td>\n",
              "      <td>42</td>\n",
              "      <td>17</td>\n",
              "      <td>1</td>\n",
              "      <td>1</td>\n",
              "      <td>Yes</td>\n",
              "    </tr>\n",
              "    <tr>\n",
              "      <th>2</th>\n",
              "      <td>11.22000</td>\n",
              "      <td>111</td>\n",
              "      <td>48</td>\n",
              "      <td>16</td>\n",
              "      <td>260</td>\n",
              "      <td>83</td>\n",
              "      <td>1</td>\n",
              "      <td>65</td>\n",
              "      <td>10</td>\n",
              "      <td>1</td>\n",
              "      <td>1</td>\n",
              "      <td>Yes</td>\n",
              "    </tr>\n",
              "    <tr>\n",
              "      <th>3</th>\n",
              "      <td>10.06000</td>\n",
              "      <td>113</td>\n",
              "      <td>35</td>\n",
              "      <td>10</td>\n",
              "      <td>269</td>\n",
              "      <td>80</td>\n",
              "      <td>2</td>\n",
              "      <td>59</td>\n",
              "      <td>12</td>\n",
              "      <td>1</td>\n",
              "      <td>1</td>\n",
              "      <td>Yes</td>\n",
              "    </tr>\n",
              "    <tr>\n",
              "      <th>4</th>\n",
              "      <td>7.40000</td>\n",
              "      <td>117</td>\n",
              "      <td>100</td>\n",
              "      <td>4</td>\n",
              "      <td>466</td>\n",
              "      <td>97</td>\n",
              "      <td>2</td>\n",
              "      <td>55</td>\n",
              "      <td>14</td>\n",
              "      <td>1</td>\n",
              "      <td>1</td>\n",
              "      <td>No</td>\n",
              "    </tr>\n",
              "    <tr>\n",
              "      <th>5</th>\n",
              "      <td>4.15000</td>\n",
              "      <td>141</td>\n",
              "      <td>64</td>\n",
              "      <td>3</td>\n",
              "      <td>340</td>\n",
              "      <td>128</td>\n",
              "      <td>0</td>\n",
              "      <td>38</td>\n",
              "      <td>13</td>\n",
              "      <td>1</td>\n",
              "      <td>0</td>\n",
              "      <td>No</td>\n",
              "    </tr>\n",
              "    <tr>\n",
              "      <th>...</th>\n",
              "      <td>...</td>\n",
              "      <td>...</td>\n",
              "      <td>...</td>\n",
              "      <td>...</td>\n",
              "      <td>...</td>\n",
              "      <td>...</td>\n",
              "      <td>...</td>\n",
              "      <td>...</td>\n",
              "      <td>...</td>\n",
              "      <td>...</td>\n",
              "      <td>...</td>\n",
              "      <td>...</td>\n",
              "    </tr>\n",
              "    <tr>\n",
              "      <th>396</th>\n",
              "      <td>12.57000</td>\n",
              "      <td>138</td>\n",
              "      <td>108</td>\n",
              "      <td>17</td>\n",
              "      <td>203</td>\n",
              "      <td>128</td>\n",
              "      <td>1</td>\n",
              "      <td>33</td>\n",
              "      <td>14</td>\n",
              "      <td>1</td>\n",
              "      <td>1</td>\n",
              "      <td>Yes</td>\n",
              "    </tr>\n",
              "    <tr>\n",
              "      <th>397</th>\n",
              "      <td>6.14000</td>\n",
              "      <td>139</td>\n",
              "      <td>23</td>\n",
              "      <td>3</td>\n",
              "      <td>37</td>\n",
              "      <td>120</td>\n",
              "      <td>2</td>\n",
              "      <td>55</td>\n",
              "      <td>11</td>\n",
              "      <td>0</td>\n",
              "      <td>1</td>\n",
              "      <td>No</td>\n",
              "    </tr>\n",
              "    <tr>\n",
              "      <th>398</th>\n",
              "      <td>7.41000</td>\n",
              "      <td>162</td>\n",
              "      <td>26</td>\n",
              "      <td>12</td>\n",
              "      <td>368</td>\n",
              "      <td>159</td>\n",
              "      <td>2</td>\n",
              "      <td>40</td>\n",
              "      <td>18</td>\n",
              "      <td>1</td>\n",
              "      <td>1</td>\n",
              "      <td>No</td>\n",
              "    </tr>\n",
              "    <tr>\n",
              "      <th>399</th>\n",
              "      <td>5.94000</td>\n",
              "      <td>100</td>\n",
              "      <td>79</td>\n",
              "      <td>7</td>\n",
              "      <td>284</td>\n",
              "      <td>95</td>\n",
              "      <td>0</td>\n",
              "      <td>50</td>\n",
              "      <td>12</td>\n",
              "      <td>1</td>\n",
              "      <td>1</td>\n",
              "      <td>No</td>\n",
              "    </tr>\n",
              "    <tr>\n",
              "      <th>400</th>\n",
              "      <td>9.71000</td>\n",
              "      <td>134</td>\n",
              "      <td>37</td>\n",
              "      <td>0</td>\n",
              "      <td>27</td>\n",
              "      <td>120</td>\n",
              "      <td>1</td>\n",
              "      <td>49</td>\n",
              "      <td>16</td>\n",
              "      <td>1</td>\n",
              "      <td>1</td>\n",
              "      <td>Yes</td>\n",
              "    </tr>\n",
              "  </tbody>\n",
              "</table>\n",
              "<p>400 rows × 12 columns</p>\n",
              "</div>"
            ],
            "text/plain": [
              "                   Sales  CompPrice  Income  Advertising  Population  Price  \\\n",
              "1                9.50000        138      73           11         276    120   \n",
              "2               11.22000        111      48           16         260     83   \n",
              "3               10.06000        113      35           10         269     80   \n",
              "4                7.40000        117     100            4         466     97   \n",
              "5                4.15000        141      64            3         340    128   \n",
              "..                   ...        ...     ...          ...         ...    ...   \n",
              "396             12.57000        138     108           17         203    128   \n",
              "397              6.14000        139      23            3          37    120   \n",
              "398              7.41000        162      26           12         368    159   \n",
              "399              5.94000        100      79            7         284     95   \n",
              "400              9.71000        134      37            0          27    120   \n",
              "\n",
              "     ShelveLoc  Age  Education  Urban  US High  \n",
              "1            0   42         17      1   1  Yes  \n",
              "2            1   65         10      1   1  Yes  \n",
              "3            2   59         12      1   1  Yes  \n",
              "4            2   55         14      1   1   No  \n",
              "5            0   38         13      1   0   No  \n",
              "..         ...  ...        ...    ...  ..  ...  \n",
              "396          1   33         14      1   1  Yes  \n",
              "397          2   55         11      0   1   No  \n",
              "398          2   40         18      1   1   No  \n",
              "399          0   50         12      1   1   No  \n",
              "400          1   49         16      1   1  Yes  \n",
              "\n",
              "[400 rows x 12 columns]"
            ]
          },
          "metadata": {
            "tags": []
          },
          "execution_count": 5
        }
      ]
    },
    {
      "cell_type": "markdown",
      "metadata": {
        "id": "Z4jm2RqN3iya"
      },
      "source": [
        "Tree Classifier"
      ]
    },
    {
      "cell_type": "code",
      "metadata": {
        "colab": {
          "base_uri": "https://localhost:8080/"
        },
        "id": "QcK8OPAK3kQb",
        "outputId": "efc47775-d163-4463-cffc-57e4ccb59cec"
      },
      "source": [
        "from sklearn.tree import DecisionTreeClassifier\n",
        "\n",
        "tree_carseats = DecisionTreeClassifier(min_samples_leaf=5, max_depth=6)\n",
        "tree_carseats.fit(X, y)\n",
        "y_pred = tree_carseats.predict(X)\n",
        "\n",
        "tree_carseats.score(X, y)"
      ],
      "execution_count": 6,
      "outputs": [
        {
          "output_type": "execute_result",
          "data": {
            "text/plain": [
              "0.8775"
            ]
          },
          "metadata": {
            "tags": []
          },
          "execution_count": 6
        }
      ]
    },
    {
      "cell_type": "markdown",
      "metadata": {
        "id": "b4wr_YmG35KI"
      },
      "source": [
        "Feature importance for variable importance measures\n",
        " -Use of Scikit-plot: visualizations that frequently pop up in machine learning"
      ]
    },
    {
      "cell_type": "code",
      "metadata": {
        "colab": {
          "base_uri": "https://localhost:8080/"
        },
        "id": "c8wLCR-65ItM",
        "outputId": "3fb8beab-510e-4cd6-c129-6b0a4211797c"
      },
      "source": [
        "pip install scikit-plot"
      ],
      "execution_count": 10,
      "outputs": [
        {
          "output_type": "stream",
          "text": [
            "Collecting scikit-plot\n",
            "  Downloading https://files.pythonhosted.org/packages/7c/47/32520e259340c140a4ad27c1b97050dd3254fdc517b1d59974d47037510e/scikit_plot-0.3.7-py3-none-any.whl\n",
            "Requirement already satisfied: scikit-learn>=0.18 in /usr/local/lib/python3.7/dist-packages (from scikit-plot) (0.22.2.post1)\n",
            "Requirement already satisfied: joblib>=0.10 in /usr/local/lib/python3.7/dist-packages (from scikit-plot) (1.0.1)\n",
            "Requirement already satisfied: matplotlib>=1.4.0 in /usr/local/lib/python3.7/dist-packages (from scikit-plot) (3.2.2)\n",
            "Requirement already satisfied: scipy>=0.9 in /usr/local/lib/python3.7/dist-packages (from scikit-plot) (1.4.1)\n",
            "Requirement already satisfied: numpy>=1.11.0 in /usr/local/lib/python3.7/dist-packages (from scikit-learn>=0.18->scikit-plot) (1.19.5)\n",
            "Requirement already satisfied: cycler>=0.10 in /usr/local/lib/python3.7/dist-packages (from matplotlib>=1.4.0->scikit-plot) (0.10.0)\n",
            "Requirement already satisfied: pyparsing!=2.0.4,!=2.1.2,!=2.1.6,>=2.0.1 in /usr/local/lib/python3.7/dist-packages (from matplotlib>=1.4.0->scikit-plot) (2.4.7)\n",
            "Requirement already satisfied: python-dateutil>=2.1 in /usr/local/lib/python3.7/dist-packages (from matplotlib>=1.4.0->scikit-plot) (2.8.1)\n",
            "Requirement already satisfied: kiwisolver>=1.0.1 in /usr/local/lib/python3.7/dist-packages (from matplotlib>=1.4.0->scikit-plot) (1.3.1)\n",
            "Requirement already satisfied: six in /usr/local/lib/python3.7/dist-packages (from cycler>=0.10->matplotlib>=1.4.0->scikit-plot) (1.15.0)\n",
            "Installing collected packages: scikit-plot\n",
            "Successfully installed scikit-plot-0.3.7\n"
          ],
          "name": "stdout"
        }
      ]
    },
    {
      "cell_type": "code",
      "metadata": {
        "colab": {
          "base_uri": "https://localhost:8080/",
          "height": 394
        },
        "id": "7NIQ7yeR4GfP",
        "outputId": "fce69c12-d80f-4a89-ff33-0e57f8c0e327"
      },
      "source": [
        "# feature Importance\n",
        "\n",
        "from scikitplot.estimators import plot_feature_importances\n",
        "\n",
        "plot_feature_importances(tree_carseats,\n",
        "                         feature_names=X.columns,\n",
        "                         x_tick_rotation=45);"
      ],
      "execution_count": 11,
      "outputs": [
        {
          "output_type": "display_data",
          "data": {
            "image/png": "[encoded data removed]",
            "text/plain": [
              "<Figure size 576x396 with 1 Axes>"
            ]
          },
          "metadata": {
            "tags": []
          }
        }
      ]
    },
    {
      "cell_type": "markdown",
      "metadata": {
        "id": "NW00Hvct5cR0"
      },
      "source": [
        "Performances of tree classifier"
      ]
    },
    {
      "cell_type": "code",
      "metadata": {
        "colab": {
          "base_uri": "https://localhost:8080/"
        },
        "id": "LUOu_2SY5e_C",
        "outputId": "95e33538-92b2-4cef-cf4f-d68b3a64e5ac"
      },
      "source": [
        "from sklearn.model_selection import train_test_split\n",
        "\n",
        "X_train, X_test, y_train, y_test = train_test_split(X, y, train_size=0.5, test_size=0.5, random_state=42)\n",
        "\n",
        "tree_carseats_tt = DecisionTreeClassifier(min_samples_leaf=5, max_depth=6)\n",
        "tree_carseats_tt.fit(X_train, y_train)\n",
        "y_pred = tree_carseats_tt.predict(X_test)\n",
        "\n",
        "tree_carseats_tt.score(X_train, y_train), tree_carseats_tt.score(X_test, y_test)"
      ],
      "execution_count": 12,
      "outputs": [
        {
          "output_type": "execute_result",
          "data": {
            "text/plain": [
              "(0.9, 0.73)"
            ]
          },
          "metadata": {
            "tags": []
          },
          "execution_count": 12
        }
      ]
    },
    {
      "cell_type": "code",
      "metadata": {
        "colab": {
          "base_uri": "https://localhost:8080/"
        },
        "id": "FIka7dSR6HE7",
        "outputId": "bffffc19-278b-4f20-9f26-aebdc293f8c3"
      },
      "source": [
        "from sklearn.metrics import classification_report\n",
        "\n",
        "print(classification_report(y_test, y_pred)) # Build a text report showing the main classification metrics"
      ],
      "execution_count": 13,
      "outputs": [
        {
          "output_type": "stream",
          "text": [
            "              precision    recall  f1-score   support\n",
            "\n",
            "          No       0.81      0.71      0.75       117\n",
            "         Yes       0.65      0.76      0.70        83\n",
            "\n",
            "    accuracy                           0.73       200\n",
            "   macro avg       0.73      0.73      0.73       200\n",
            "weighted avg       0.74      0.73      0.73       200\n",
            "\n"
          ],
          "name": "stdout"
        }
      ]
    },
    {
      "cell_type": "markdown",
      "metadata": {
        "id": "E5UH-RCV6cae"
      },
      "source": [
        "Plotting confusion matrix"
      ]
    },
    {
      "cell_type": "code",
      "metadata": {
        "colab": {
          "base_uri": "https://localhost:8080/",
          "height": 376
        },
        "id": "4lYXMZIp6eqH",
        "outputId": "7d4e4e39-e761-4584-812d-71559d8bea25"
      },
      "source": [
        "from scikitplot.metrics import plot_confusion_matrix\n",
        "\n",
        "plot_confusion_matrix(y_test, y_pred);"
      ],
      "execution_count": 14,
      "outputs": [
        {
          "output_type": "display_data",
          "data": {
            "image/png": "[encoded data removed]",
            "text/plain": [
              "<Figure size 576x396 with 2 Axes>"
            ]
          },
          "metadata": {
            "tags": []
          }
        }
      ]
    },
    {
      "cell_type": "markdown",
      "metadata": {
        "id": "tt-VcX3_6qsR"
      },
      "source": [
        "###8.3.2 Fitting Regression Trees"
      ]
    },
    {
      "cell_type": "code",
      "metadata": {
        "colab": {
          "base_uri": "https://localhost:8080/",
          "height": 427
        },
        "id": "MlH_rY9v6yUw",
        "outputId": "f2fc1cae-3879-4990-e82f-08eaf60ebbfd"
      },
      "source": [
        "boston = pd.read_csv('/content/drive/MyDrive/datasets/Boston.csv', index_col=0)\n",
        "\n",
        "X = boston.loc[:, 'crim':'lstat']\n",
        "y = boston.loc[:, 'medv']\n",
        "\n",
        "boston\n"
      ],
      "execution_count": 15,
      "outputs": [
        {
          "output_type": "execute_result",
          "data": {
            "text/html": [
              "<div>\n",
              "<style scoped>\n",
              "    .dataframe tbody tr th:only-of-type {\n",
              "        vertical-align: middle;\n",
              "    }\n",
              "\n",
              "    .dataframe tbody tr th {\n",
              "        vertical-align: top;\n",
              "    }\n",
              "\n",
              "    .dataframe thead th {\n",
              "        text-align: right;\n",
              "    }\n",
              "</style>\n",
              "<table border=\"1\" class=\"dataframe\">\n",
              "  <thead>\n",
              "    <tr style=\"text-align: right;\">\n",
              "      <th></th>\n",
              "      <th>crim</th>\n",
              "      <th>zn</th>\n",
              "      <th>indus</th>\n",
              "      <th>chas</th>\n",
              "      <th>nox</th>\n",
              "      <th>rm</th>\n",
              "      <th>...</th>\n",
              "      <th>rad</th>\n",
              "      <th>tax</th>\n",
              "      <th>ptratio</th>\n",
              "      <th>black</th>\n",
              "      <th>lstat</th>\n",
              "      <th>medv</th>\n",
              "    </tr>\n",
              "  </thead>\n",
              "  <tbody>\n",
              "    <tr>\n",
              "      <th>1</th>\n",
              "      <td>0.00632</td>\n",
              "      <td>18.00000</td>\n",
              "      <td>2.31000</td>\n",
              "      <td>0</td>\n",
              "      <td>0.53800</td>\n",
              "      <td>6.57500</td>\n",
              "      <td>...</td>\n",
              "      <td>1</td>\n",
              "      <td>296</td>\n",
              "      <td>15.30000</td>\n",
              "      <td>396.90000</td>\n",
              "      <td>4.98000</td>\n",
              "      <td>24.00000</td>\n",
              "    </tr>\n",
              "    <tr>\n",
              "      <th>2</th>\n",
              "      <td>0.02731</td>\n",
              "      <td>0.00000</td>\n",
              "      <td>7.07000</td>\n",
              "      <td>0</td>\n",
              "      <td>0.46900</td>\n",
              "      <td>6.42100</td>\n",
              "      <td>...</td>\n",
              "      <td>2</td>\n",
              "      <td>242</td>\n",
              "      <td>17.80000</td>\n",
              "      <td>396.90000</td>\n",
              "      <td>9.14000</td>\n",
              "      <td>21.60000</td>\n",
              "    </tr>\n",
              "    <tr>\n",
              "      <th>3</th>\n",
              "      <td>0.02729</td>\n",
              "      <td>0.00000</td>\n",
              "      <td>7.07000</td>\n",
              "      <td>0</td>\n",
              "      <td>0.46900</td>\n",
              "      <td>7.18500</td>\n",
              "      <td>...</td>\n",
              "      <td>2</td>\n",
              "      <td>242</td>\n",
              "      <td>17.80000</td>\n",
              "      <td>392.83000</td>\n",
              "      <td>4.03000</td>\n",
              "      <td>34.70000</td>\n",
              "    </tr>\n",
              "    <tr>\n",
              "      <th>4</th>\n",
              "      <td>0.03237</td>\n",
              "      <td>0.00000</td>\n",
              "      <td>2.18000</td>\n",
              "      <td>0</td>\n",
              "      <td>0.45800</td>\n",
              "      <td>6.99800</td>\n",
              "      <td>...</td>\n",
              "      <td>3</td>\n",
              "      <td>222</td>\n",
              "      <td>18.70000</td>\n",
              "      <td>394.63000</td>\n",
              "      <td>2.94000</td>\n",
              "      <td>33.40000</td>\n",
              "    </tr>\n",
              "    <tr>\n",
              "      <th>5</th>\n",
              "      <td>0.06905</td>\n",
              "      <td>0.00000</td>\n",
              "      <td>2.18000</td>\n",
              "      <td>0</td>\n",
              "      <td>0.45800</td>\n",
              "      <td>7.14700</td>\n",
              "      <td>...</td>\n",
              "      <td>3</td>\n",
              "      <td>222</td>\n",
              "      <td>18.70000</td>\n",
              "      <td>396.90000</td>\n",
              "      <td>5.33000</td>\n",
              "      <td>36.20000</td>\n",
              "    </tr>\n",
              "    <tr>\n",
              "      <th>...</th>\n",
              "      <td>...</td>\n",
              "      <td>...</td>\n",
              "      <td>...</td>\n",
              "      <td>...</td>\n",
              "      <td>...</td>\n",
              "      <td>...</td>\n",
              "      <td>...</td>\n",
              "      <td>...</td>\n",
              "      <td>...</td>\n",
              "      <td>...</td>\n",
              "      <td>...</td>\n",
              "      <td>...</td>\n",
              "      <td>...</td>\n",
              "    </tr>\n",
              "    <tr>\n",
              "      <th>502</th>\n",
              "      <td>0.06263</td>\n",
              "      <td>0.00000</td>\n",
              "      <td>11.93000</td>\n",
              "      <td>0</td>\n",
              "      <td>0.57300</td>\n",
              "      <td>6.59300</td>\n",
              "      <td>...</td>\n",
              "      <td>1</td>\n",
              "      <td>273</td>\n",
              "      <td>21.00000</td>\n",
              "      <td>391.99000</td>\n",
              "      <td>9.67000</td>\n",
              "      <td>22.40000</td>\n",
              "    </tr>\n",
              "    <tr>\n",
              "      <th>503</th>\n",
              "      <td>0.04527</td>\n",
              "      <td>0.00000</td>\n",
              "      <td>11.93000</td>\n",
              "      <td>0</td>\n",
              "      <td>0.57300</td>\n",
              "      <td>6.12000</td>\n",
              "      <td>...</td>\n",
              "      <td>1</td>\n",
              "      <td>273</td>\n",
              "      <td>21.00000</td>\n",
              "      <td>396.90000</td>\n",
              "      <td>9.08000</td>\n",
              "      <td>20.60000</td>\n",
              "    </tr>\n",
              "    <tr>\n",
              "      <th>504</th>\n",
              "      <td>0.06076</td>\n",
              "      <td>0.00000</td>\n",
              "      <td>11.93000</td>\n",
              "      <td>0</td>\n",
              "      <td>0.57300</td>\n",
              "      <td>6.97600</td>\n",
              "      <td>...</td>\n",
              "      <td>1</td>\n",
              "      <td>273</td>\n",
              "      <td>21.00000</td>\n",
              "      <td>396.90000</td>\n",
              "      <td>5.64000</td>\n",
              "      <td>23.90000</td>\n",
              "    </tr>\n",
              "    <tr>\n",
              "      <th>505</th>\n",
              "      <td>0.10959</td>\n",
              "      <td>0.00000</td>\n",
              "      <td>11.93000</td>\n",
              "      <td>0</td>\n",
              "      <td>0.57300</td>\n",
              "      <td>6.79400</td>\n",
              "      <td>...</td>\n",
              "      <td>1</td>\n",
              "      <td>273</td>\n",
              "      <td>21.00000</td>\n",
              "      <td>393.45000</td>\n",
              "      <td>6.48000</td>\n",
              "      <td>22.00000</td>\n",
              "    </tr>\n",
              "    <tr>\n",
              "      <th>506</th>\n",
              "      <td>0.04741</td>\n",
              "      <td>0.00000</td>\n",
              "      <td>11.93000</td>\n",
              "      <td>0</td>\n",
              "      <td>0.57300</td>\n",
              "      <td>6.03000</td>\n",
              "      <td>...</td>\n",
              "      <td>1</td>\n",
              "      <td>273</td>\n",
              "      <td>21.00000</td>\n",
              "      <td>396.90000</td>\n",
              "      <td>7.88000</td>\n",
              "      <td>11.90000</td>\n",
              "    </tr>\n",
              "  </tbody>\n",
              "</table>\n",
              "<p>506 rows × 14 columns</p>\n",
              "</div>"
            ],
            "text/plain": [
              "                    crim                   zn                indus  chas  \\\n",
              "1                0.00632             18.00000              2.31000     0   \n",
              "2                0.02731              0.00000              7.07000     0   \n",
              "3                0.02729              0.00000              7.07000     0   \n",
              "4                0.03237              0.00000              2.18000     0   \n",
              "5                0.06905              0.00000              2.18000     0   \n",
              "..                   ...                  ...                  ...   ...   \n",
              "502              0.06263              0.00000             11.93000     0   \n",
              "503              0.04527              0.00000             11.93000     0   \n",
              "504              0.06076              0.00000             11.93000     0   \n",
              "505              0.10959              0.00000             11.93000     0   \n",
              "506              0.04741              0.00000             11.93000     0   \n",
              "\n",
              "                     nox                   rm  ...  rad  tax  \\\n",
              "1                0.53800              6.57500  ...    1  296   \n",
              "2                0.46900              6.42100  ...    2  242   \n",
              "3                0.46900              7.18500  ...    2  242   \n",
              "4                0.45800              6.99800  ...    3  222   \n",
              "5                0.45800              7.14700  ...    3  222   \n",
              "..                   ...                  ...  ...  ...  ...   \n",
              "502              0.57300              6.59300  ...    1  273   \n",
              "503              0.57300              6.12000  ...    1  273   \n",
              "504              0.57300              6.97600  ...    1  273   \n",
              "505              0.57300              6.79400  ...    1  273   \n",
              "506              0.57300              6.03000  ...    1  273   \n",
              "\n",
              "                 ptratio                black                lstat  \\\n",
              "1               15.30000            396.90000              4.98000   \n",
              "2               17.80000            396.90000              9.14000   \n",
              "3               17.80000            392.83000              4.03000   \n",
              "4               18.70000            394.63000              2.94000   \n",
              "5               18.70000            396.90000              5.33000   \n",
              "..                   ...                  ...                  ...   \n",
              "502             21.00000            391.99000              9.67000   \n",
              "503             21.00000            396.90000              9.08000   \n",
              "504             21.00000            396.90000              5.64000   \n",
              "505             21.00000            393.45000              6.48000   \n",
              "506             21.00000            396.90000              7.88000   \n",
              "\n",
              "                    medv  \n",
              "1               24.00000  \n",
              "2               21.60000  \n",
              "3               34.70000  \n",
              "4               33.40000  \n",
              "5               36.20000  \n",
              "..                   ...  \n",
              "502             22.40000  \n",
              "503             20.60000  \n",
              "504             23.90000  \n",
              "505             22.00000  \n",
              "506             11.90000  \n",
              "\n",
              "[506 rows x 14 columns]"
            ]
          },
          "metadata": {
            "tags": []
          },
          "execution_count": 15
        }
      ]
    },
    {
      "cell_type": "markdown",
      "metadata": {
        "id": "Yzmj2ckM7IjD"
      },
      "source": [
        "Accuracy of tree regressor"
      ]
    },
    {
      "cell_type": "code",
      "metadata": {
        "colab": {
          "base_uri": "https://localhost:8080/"
        },
        "id": "YxaFqklf7FVy",
        "outputId": "9ad8df06-4cfc-4377-cc3e-79962224e505"
      },
      "source": [
        "from sklearn.tree import DecisionTreeRegressor\n",
        "\n",
        "X_train, X_test, y_train, y_test = train_test_split(X, y, train_size=0.5, test_size=0.5, random_state=42)\n",
        "\n",
        "tree_boston = DecisionTreeRegressor(min_samples_leaf=5, max_depth=2)\n",
        "tree_boston.fit(X_train, y_train)\n",
        "y_pred = tree_boston.predict(X_test)\n",
        "\n",
        "tree_boston.score(X_train, y_train), tree_boston.score(X_test, y_test)"
      ],
      "execution_count": 16,
      "outputs": [
        {
          "output_type": "execute_result",
          "data": {
            "text/plain": [
              "(0.7461422238084277, 0.6349503884695382)"
            ]
          },
          "metadata": {
            "tags": []
          },
          "execution_count": 16
        }
      ]
    },
    {
      "cell_type": "markdown",
      "metadata": {
        "id": "7G0HHbf-76ZE"
      },
      "source": [
        "###8.3.3 Bagging and Random Forests"
      ]
    },
    {
      "cell_type": "markdown",
      "metadata": {
        "id": "LbjXgie77_A9"
      },
      "source": [
        "Bagging"
      ]
    },
    {
      "cell_type": "code",
      "metadata": {
        "colab": {
          "base_uri": "https://localhost:8080/"
        },
        "id": "vzwXYE5p7_8-",
        "outputId": "5f3ac7c2-5406-4593-d64a-45d441664f39"
      },
      "source": [
        "from sklearn.ensemble import RandomForestRegressor\n",
        "from sklearn.metrics import mean_squared_error\n",
        "\n",
        "boston_bag = RandomForestRegressor(max_features=13, random_state=42)\n",
        "boston_bag.fit(X_train, y_train)\n",
        "\n",
        "y_pred = boston_bag.predict(X_test)\n",
        "\n",
        "mean_squared_error(y_test, y_pred)"
      ],
      "execution_count": 17,
      "outputs": [
        {
          "output_type": "execute_result",
          "data": {
            "text/plain": [
              "14.332307616600787"
            ]
          },
          "metadata": {
            "tags": []
          },
          "execution_count": 17
        }
      ]
    },
    {
      "cell_type": "code",
      "metadata": {
        "colab": {
          "base_uri": "https://localhost:8080/",
          "height": 364
        },
        "id": "IFSONYt68YSC",
        "outputId": "2f920c25-04d2-45ca-a07c-a5db9fafd2a2"
      },
      "source": [
        "sns.regplot(x=y_pred, y=y_test)"
      ],
      "execution_count": 18,
      "outputs": [
        {
          "output_type": "execute_result",
          "data": {
            "text/plain": [
              "<matplotlib.axes._subplots.AxesSubplot at 0x7fcd9dd02510>"
            ]
          },
          "metadata": {
            "tags": []
          },
          "execution_count": 18
        },
        {
          "output_type": "display_data",
          "data": {
            "image/png": "[encoded data removed]",
            "text/plain": [
              "<Figure size 576x396 with 1 Axes>"
            ]
          },
          "metadata": {
            "tags": []
          }
        }
      ]
    },
    {
      "cell_type": "markdown",
      "metadata": {
        "id": "CQ7nwiDE9H8t"
      },
      "source": [
        "Random Forests"
      ]
    },
    {
      "cell_type": "code",
      "metadata": {
        "colab": {
          "base_uri": "https://localhost:8080/"
        },
        "id": "0ai6_kyE9JdP",
        "outputId": "879a2e5f-8fc8-4e62-b73e-446b4997614a"
      },
      "source": [
        "boston_rf = RandomForestRegressor(max_features=6, random_state=42, n_estimators=100)\n",
        "boston_rf.fit(X_train, y_train)\n",
        "\n",
        "y_pred = boston_rf.predict(X_test)\n",
        "\n",
        "mean_squared_error(y_test, y_pred)"
      ],
      "execution_count": 19,
      "outputs": [
        {
          "output_type": "execute_result",
          "data": {
            "text/plain": [
              "13.359148822134387"
            ]
          },
          "metadata": {
            "tags": []
          },
          "execution_count": 19
        }
      ]
    },
    {
      "cell_type": "code",
      "metadata": {
        "colab": {
          "base_uri": "https://localhost:8080/",
          "height": 347
        },
        "id": "Nlh7JGko9emO",
        "outputId": "b3a66bbd-30e4-45df-a511-883b292e2f5f"
      },
      "source": [
        "sns.regplot(x=y_pred, y=y_test);"
      ],
      "execution_count": 20,
      "outputs": [
        {
          "output_type": "display_data",
          "data": {
            "image/png": "[encoded data removed]",
            "text/plain": [
              "<Figure size 576x396 with 1 Axes>"
            ]
          },
          "metadata": {
            "tags": []
          }
        }
      ]
    },
    {
      "cell_type": "markdown",
      "metadata": {
        "id": "rhkjK7m39oJU"
      },
      "source": [
        "###8.3.4. Boosting"
      ]
    },
    {
      "cell_type": "markdown",
      "metadata": {
        "id": "ypdNQV7Q9tRo"
      },
      "source": [
        "Boosting with learning rate 0.01"
      ]
    },
    {
      "cell_type": "code",
      "metadata": {
        "colab": {
          "base_uri": "https://localhost:8080/"
        },
        "id": "Ocqx4Q2B9nyq",
        "outputId": "d0b030e6-70b4-4d17-8968-2fd47f5119c0"
      },
      "source": [
        "from sklearn.ensemble import GradientBoostingRegressor\n",
        "\n",
        "boston_gb = GradientBoostingRegressor(n_estimators=500, learning_rate=0.01, max_depth=4, random_state=42)\n",
        "boston_gb.fit(X_train, y_train)\n",
        "\n",
        "y_pred = boston_gb.predict(X_test)\n",
        "\n",
        "mean_squared_error(y_test, y_pred)"
      ],
      "execution_count": 21,
      "outputs": [
        {
          "output_type": "execute_result",
          "data": {
            "text/plain": [
              "16.770864624119454"
            ]
          },
          "metadata": {
            "tags": []
          },
          "execution_count": 21
        }
      ]
    },
    {
      "cell_type": "code",
      "metadata": {
        "colab": {
          "base_uri": "https://localhost:8080/",
          "height": 379
        },
        "id": "0vXYjmfp-LQg",
        "outputId": "3d98ec6f-f39e-4855-eb56-77f777089c2e"
      },
      "source": [
        "plot_feature_importances(boston_gb,\n",
        "                         feature_names=X.columns,\n",
        "                         x_tick_rotation=45);"
      ],
      "execution_count": 22,
      "outputs": [
        {
          "output_type": "display_data",
          "data": {
            "image/png": "[encoded data removed]",
            "text/plain": [
              "<Figure size 576x396 with 1 Axes>"
            ]
          },
          "metadata": {
            "tags": []
          }
        }
      ]
    },
    {
      "cell_type": "markdown",
      "metadata": {
        "id": "dwTDNCDi-4JB"
      },
      "source": [
        "Partial dependence plots"
      ]
    },
    {
      "cell_type": "code",
      "metadata": {
        "colab": {
          "base_uri": "https://localhost:8080/",
          "height": 361
        },
        "id": "D8RVVw4T-5-S",
        "outputId": "2fd510cf-e381-4c6f-bbc8-fec71db7e53a"
      },
      "source": [
        "# Partial Dependence Plots\n",
        "\n",
        "from sklearn.inspection import plot_partial_dependence\n",
        "\n",
        "plot_partial_dependence(boston_gb, X_train, [5,12], feature_names=X.columns);"
      ],
      "execution_count": 23,
      "outputs": [
        {
          "output_type": "display_data",
          "data": {
            "image/png": "[encoded data removed]",
            "text/plain": [
              "<Figure size 576x396 with 3 Axes>"
            ]
          },
          "metadata": {
            "tags": []
          }
        }
      ]
    },
    {
      "cell_type": "markdown",
      "metadata": {
        "id": "ZTz1SC-I_8Fu"
      },
      "source": [
        "Boosting with learning rate 0.5"
      ]
    },
    {
      "cell_type": "code",
      "metadata": {
        "colab": {
          "base_uri": "https://localhost:8080/"
        },
        "id": "fUveUPxV_-7g",
        "outputId": "32fab941-8367-4280-8c05-9aac30b76252"
      },
      "source": [
        "boston_gb2 = GradientBoostingRegressor(n_estimators=500, learning_rate=0.5, max_depth=4, random_state=42)\n",
        "boston_gb2.fit(X_train, y_train)\n",
        "\n",
        "y_pred = boston_gb2.predict(X_test)\n",
        "\n",
        "mean_squared_error(y_test, y_pred)\n"
      ],
      "execution_count": 24,
      "outputs": [
        {
          "output_type": "execute_result",
          "data": {
            "text/plain": [
              "16.823497586458743"
            ]
          },
          "metadata": {
            "tags": []
          },
          "execution_count": 24
        }
      ]
    },
    {
      "cell_type": "code",
      "metadata": {
        "colab": {
          "base_uri": "https://localhost:8080/",
          "height": 379
        },
        "id": "KwTj4r7VAUXf",
        "outputId": "d8a33ffa-d352-4b4b-f7ed-07108a54c7aa"
      },
      "source": [
        "plot_feature_importances(boston_gb2,\n",
        "                         feature_names=X.columns,\n",
        "                         x_tick_rotation=45);"
      ],
      "execution_count": 25,
      "outputs": [
        {
          "output_type": "display_data",
          "data": {
            "image/png": "[encoded data removed]",
            "text/plain": [
              "<Figure size 576x396 with 1 Axes>"
            ]
          },
          "metadata": {
            "tags": []
          }
        }
      ]
    }
  ]
}