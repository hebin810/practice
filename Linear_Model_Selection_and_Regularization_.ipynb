{
  "nbformat": 4,
  "nbformat_minor": 0,
  "metadata": {
    "colab": {
      "name": "Linear Model Selection and Regularization .ipynb",
      "provenance": [],
      "collapsed_sections": [],
      "authorship_tag": "ABX9TyNKApDh8YeWV2j0QxqyOGm5",
      "include_colab_link": true
    },
    "kernelspec": {
      "name": "python3",
      "display_name": "Python 3"
    },
    "language_info": {
      "name": "python"
    }
  },
  "cells": [
    {
      "cell_type": "markdown",
      "metadata": {
        "id": "view-in-github",
        "colab_type": "text"
      },
      "source": [
        "<a href=\"https://colab.research.google.com/github/splopsky/ML-practice/blob/main/Linear_Model_Selection_and_Regularization_.ipynb\" target=\"_parent\"><img src=\"https://colab.research.google.com/assets/colab-badge.svg\" alt=\"Open In Colab\"/></a>"
      ]
    },
    {
      "cell_type": "markdown",
      "metadata": {
        "id": "8IV4JRAwEGEl"
      },
      "source": [
        "###6.5.1 Best Subset Selection"
      ]
    },
    {
      "cell_type": "code",
      "metadata": {
        "colab": {
          "base_uri": "https://localhost:8080/"
        },
        "id": "OKiE5_4-EFpQ",
        "outputId": "36e351c0-bdad-41cd-bb19-0a39d5b10508"
      },
      "source": [
        "#imports and setup\n",
        "%matplotlib inline\n",
        "\n",
        "import numpy as np\n",
        "import pandas as pd\n",
        "\n",
        "import matplotlib.pyplot as plt\n",
        "\n",
        "from itertools import chain, combinations\n",
        "import statsmodels.api as sm\n",
        "\n",
        "pd.set_option('precision', 2) # number precision for pandas\n",
        "pd.set_option('display.max_rows', 12)\n",
        "pd.set_option('display.max_columns', 12)\n",
        "pd.set_option('display.float_format', '{:20,.2f}'.format) #get rid of scientific notation\n",
        "\n",
        "plt.style.use('seaborn') # pretty matplotlib plots"
      ],
      "execution_count": 2,
      "outputs": [
        {
          "output_type": "stream",
          "text": [
            "/usr/local/lib/python3.7/dist-packages/statsmodels/tools/_testing.py:19: FutureWarning: pandas.util.testing is deprecated. Use the functions in the public API at pandas.testing instead.\n",
            "  import pandas.util.testing as tm\n"
          ],
          "name": "stderr"
        }
      ]
    },
    {
      "cell_type": "code",
      "metadata": {
        "colab": {
          "base_uri": "https://localhost:8080/"
        },
        "id": "eMu8jloMDyEU",
        "outputId": "c45ec986-344a-43d3-982f-8928409db39a"
      },
      "source": [
        "from google.colab import drive\n",
        "drive.mount('/content/drive')"
      ],
      "execution_count": 3,
      "outputs": [
        {
          "output_type": "stream",
          "text": [
            "Mounted at /content/drive\n"
          ],
          "name": "stdout"
        }
      ]
    },
    {
      "cell_type": "code",
      "metadata": {
        "id": "6m9Ng4suHEOl"
      },
      "source": [
        "hitters = pd.read_csv('/content/drive/MyDrive/datasets/Hitters.csv', index_col=0).dropna()\n",
        "hitters.index.name = 'Player'\n",
        "\n",
        "hitters = hitters.iloc[:, [0,1,2,3,4,5,6,7,8,9,10,11,12,13,14,15,16,17,19,18]] # push salary at the end\n",
        "hitters['League'] = pd.get_dummies(hitters['League']).iloc[:,0]\n",
        "hitters['Division'] = pd.get_dummies(hitters['Division']).iloc[:,0]\n",
        "hitters['NewLeague'] = pd.get_dummies(hitters['NewLeague']).iloc[:,0]\n",
        "\n",
        "X = hitters.iloc[:, 0:19]\n",
        "y = hitters.iloc[:, 19]"
      ],
      "execution_count": 4,
      "outputs": []
    },
    {
      "cell_type": "code",
      "metadata": {
        "colab": {
          "base_uri": "https://localhost:8080/",
          "height": 437
        },
        "id": "DaoH-qwuH7oN",
        "outputId": "ede73a20-e5e2-4aae-c9b7-5ea379095f45"
      },
      "source": [
        "# takes a long time\n",
        "\n",
        "k_features = 1\n",
        "\n",
        "sub = []\n",
        "reg = []\n",
        "kft = []\n",
        "\n",
        "n_features = X.shape[1]\n",
        "\n",
        "for k_features in range(1,20):\n",
        "  subsets = chain(combinations(range(n_features), k_features))\n",
        "\n",
        "  best_score = np.inf\n",
        "  \n",
        "  for subset in subsets:\n",
        "    lin_reg = sm.OLS(y, sm.add_constant(X.iloc[:, list(subset)])).fit()\n",
        "    score = lin_reg.ssr\n",
        "    if score < best_score:\n",
        "      best_score, best_subset = score, list(subset)\n",
        "      best_reg = lin_reg\n",
        "\n",
        "  sub.append(best_subset)\n",
        "  reg.append(best_reg)\n",
        "  kft.append(k_features)\n",
        "\n",
        "results = pd.DataFrame({'kft': kft, 'sub': sub, 'reg': reg},\n",
        "                       columns = ['sub', 'reg', 'kft']).set_index('kft')"
      ],
      "execution_count": null,
      "outputs": [
        {
          "output_type": "error",
          "ename": "KeyboardInterrupt",
          "evalue": "ignored",
          "traceback": [
            "\u001b[0;31m---------------------------------------------------------------------------\u001b[0m",
            "\u001b[0;31mKeyboardInterrupt\u001b[0m                         Traceback (most recent call last)",
            "\u001b[0;32m<ipython-input-17-d5881ec996b7>\u001b[0m in \u001b[0;36m<module>\u001b[0;34m()\u001b[0m\n\u001b[1;32m     15\u001b[0m \u001b[0;34m\u001b[0m\u001b[0m\n\u001b[1;32m     16\u001b[0m   \u001b[0;32mfor\u001b[0m \u001b[0msubset\u001b[0m \u001b[0;32min\u001b[0m \u001b[0msubsets\u001b[0m\u001b[0;34m:\u001b[0m\u001b[0;34m\u001b[0m\u001b[0;34m\u001b[0m\u001b[0m\n\u001b[0;32m---> 17\u001b[0;31m     \u001b[0mlin_reg\u001b[0m \u001b[0;34m=\u001b[0m \u001b[0msm\u001b[0m\u001b[0;34m.\u001b[0m\u001b[0mOLS\u001b[0m\u001b[0;34m(\u001b[0m\u001b[0my\u001b[0m\u001b[0;34m,\u001b[0m \u001b[0msm\u001b[0m\u001b[0;34m.\u001b[0m\u001b[0madd_constant\u001b[0m\u001b[0;34m(\u001b[0m\u001b[0mX\u001b[0m\u001b[0;34m.\u001b[0m\u001b[0miloc\u001b[0m\u001b[0;34m[\u001b[0m\u001b[0;34m:\u001b[0m\u001b[0;34m,\u001b[0m \u001b[0mlist\u001b[0m\u001b[0;34m(\u001b[0m\u001b[0msubset\u001b[0m\u001b[0;34m)\u001b[0m\u001b[0;34m]\u001b[0m\u001b[0;34m)\u001b[0m\u001b[0;34m)\u001b[0m\u001b[0;34m.\u001b[0m\u001b[0mfit\u001b[0m\u001b[0;34m(\u001b[0m\u001b[0;34m)\u001b[0m\u001b[0;34m\u001b[0m\u001b[0;34m\u001b[0m\u001b[0m\n\u001b[0m\u001b[1;32m     18\u001b[0m     \u001b[0mscore\u001b[0m \u001b[0;34m=\u001b[0m \u001b[0mlin_reg\u001b[0m\u001b[0;34m.\u001b[0m\u001b[0mssr\u001b[0m\u001b[0;34m\u001b[0m\u001b[0;34m\u001b[0m\u001b[0m\n\u001b[1;32m     19\u001b[0m     \u001b[0;32mif\u001b[0m \u001b[0mscore\u001b[0m \u001b[0;34m<\u001b[0m \u001b[0mbest_score\u001b[0m\u001b[0;34m:\u001b[0m\u001b[0;34m\u001b[0m\u001b[0;34m\u001b[0m\u001b[0m\n",
            "\u001b[0;32m/usr/local/lib/python3.7/dist-packages/statsmodels/regression/linear_model.py\u001b[0m in \u001b[0;36m__init__\u001b[0;34m(self, endog, exog, missing, hasconst, **kwargs)\u001b[0m\n\u001b[1;32m    836\u001b[0m                  **kwargs):\n\u001b[1;32m    837\u001b[0m         super(OLS, self).__init__(endog, exog, missing=missing,\n\u001b[0;32m--> 838\u001b[0;31m                                   hasconst=hasconst, **kwargs)\n\u001b[0m\u001b[1;32m    839\u001b[0m         \u001b[0;32mif\u001b[0m \u001b[0;34m\"weights\"\u001b[0m \u001b[0;32min\u001b[0m \u001b[0mself\u001b[0m\u001b[0;34m.\u001b[0m\u001b[0m_init_keys\u001b[0m\u001b[0;34m:\u001b[0m\u001b[0;34m\u001b[0m\u001b[0;34m\u001b[0m\u001b[0m\n\u001b[1;32m    840\u001b[0m             \u001b[0mself\u001b[0m\u001b[0;34m.\u001b[0m\u001b[0m_init_keys\u001b[0m\u001b[0;34m.\u001b[0m\u001b[0mremove\u001b[0m\u001b[0;34m(\u001b[0m\u001b[0;34m\"weights\"\u001b[0m\u001b[0;34m)\u001b[0m\u001b[0;34m\u001b[0m\u001b[0;34m\u001b[0m\u001b[0m\n",
            "\u001b[0;32m/usr/local/lib/python3.7/dist-packages/statsmodels/regression/linear_model.py\u001b[0m in \u001b[0;36m__init__\u001b[0;34m(self, endog, exog, weights, missing, hasconst, **kwargs)\u001b[0m\n\u001b[1;32m    682\u001b[0m             \u001b[0mweights\u001b[0m \u001b[0;34m=\u001b[0m \u001b[0mweights\u001b[0m\u001b[0;34m.\u001b[0m\u001b[0msqueeze\u001b[0m\u001b[0;34m(\u001b[0m\u001b[0;34m)\u001b[0m\u001b[0;34m\u001b[0m\u001b[0;34m\u001b[0m\u001b[0m\n\u001b[1;32m    683\u001b[0m         super(WLS, self).__init__(endog, exog, missing=missing,\n\u001b[0;32m--> 684\u001b[0;31m                                   weights=weights, hasconst=hasconst, **kwargs)\n\u001b[0m\u001b[1;32m    685\u001b[0m         \u001b[0mnobs\u001b[0m \u001b[0;34m=\u001b[0m \u001b[0mself\u001b[0m\u001b[0;34m.\u001b[0m\u001b[0mexog\u001b[0m\u001b[0;34m.\u001b[0m\u001b[0mshape\u001b[0m\u001b[0;34m[\u001b[0m\u001b[0;36m0\u001b[0m\u001b[0;34m]\u001b[0m\u001b[0;34m\u001b[0m\u001b[0;34m\u001b[0m\u001b[0m\n\u001b[1;32m    686\u001b[0m         \u001b[0mweights\u001b[0m \u001b[0;34m=\u001b[0m \u001b[0mself\u001b[0m\u001b[0;34m.\u001b[0m\u001b[0mweights\u001b[0m\u001b[0;34m\u001b[0m\u001b[0;34m\u001b[0m\u001b[0m\n",
            "\u001b[0;32m/usr/local/lib/python3.7/dist-packages/statsmodels/regression/linear_model.py\u001b[0m in \u001b[0;36m__init__\u001b[0;34m(self, endog, exog, **kwargs)\u001b[0m\n\u001b[1;32m    194\u001b[0m     \"\"\"\n\u001b[1;32m    195\u001b[0m     \u001b[0;32mdef\u001b[0m \u001b[0m__init__\u001b[0m\u001b[0;34m(\u001b[0m\u001b[0mself\u001b[0m\u001b[0;34m,\u001b[0m \u001b[0mendog\u001b[0m\u001b[0;34m,\u001b[0m \u001b[0mexog\u001b[0m\u001b[0;34m,\u001b[0m \u001b[0;34m**\u001b[0m\u001b[0mkwargs\u001b[0m\u001b[0;34m)\u001b[0m\u001b[0;34m:\u001b[0m\u001b[0;34m\u001b[0m\u001b[0;34m\u001b[0m\u001b[0m\n\u001b[0;32m--> 196\u001b[0;31m         \u001b[0msuper\u001b[0m\u001b[0;34m(\u001b[0m\u001b[0mRegressionModel\u001b[0m\u001b[0;34m,\u001b[0m \u001b[0mself\u001b[0m\u001b[0;34m)\u001b[0m\u001b[0;34m.\u001b[0m\u001b[0m__init__\u001b[0m\u001b[0;34m(\u001b[0m\u001b[0mendog\u001b[0m\u001b[0;34m,\u001b[0m \u001b[0mexog\u001b[0m\u001b[0;34m,\u001b[0m \u001b[0;34m**\u001b[0m\u001b[0mkwargs\u001b[0m\u001b[0;34m)\u001b[0m\u001b[0;34m\u001b[0m\u001b[0;34m\u001b[0m\u001b[0m\n\u001b[0m\u001b[1;32m    197\u001b[0m         \u001b[0mself\u001b[0m\u001b[0;34m.\u001b[0m\u001b[0m_data_attr\u001b[0m\u001b[0;34m.\u001b[0m\u001b[0mextend\u001b[0m\u001b[0;34m(\u001b[0m\u001b[0;34m[\u001b[0m\u001b[0;34m'pinv_wexog'\u001b[0m\u001b[0;34m,\u001b[0m \u001b[0;34m'wendog'\u001b[0m\u001b[0;34m,\u001b[0m \u001b[0;34m'wexog'\u001b[0m\u001b[0;34m,\u001b[0m \u001b[0;34m'weights'\u001b[0m\u001b[0;34m]\u001b[0m\u001b[0;34m)\u001b[0m\u001b[0;34m\u001b[0m\u001b[0;34m\u001b[0m\u001b[0m\n\u001b[1;32m    198\u001b[0m \u001b[0;34m\u001b[0m\u001b[0m\n",
            "\u001b[0;32m/usr/local/lib/python3.7/dist-packages/statsmodels/base/model.py\u001b[0m in \u001b[0;36m__init__\u001b[0;34m(self, endog, exog, **kwargs)\u001b[0m\n\u001b[1;32m    214\u001b[0m \u001b[0;34m\u001b[0m\u001b[0m\n\u001b[1;32m    215\u001b[0m     \u001b[0;32mdef\u001b[0m \u001b[0m__init__\u001b[0m\u001b[0;34m(\u001b[0m\u001b[0mself\u001b[0m\u001b[0;34m,\u001b[0m \u001b[0mendog\u001b[0m\u001b[0;34m,\u001b[0m \u001b[0mexog\u001b[0m\u001b[0;34m=\u001b[0m\u001b[0;32mNone\u001b[0m\u001b[0;34m,\u001b[0m \u001b[0;34m**\u001b[0m\u001b[0mkwargs\u001b[0m\u001b[0;34m)\u001b[0m\u001b[0;34m:\u001b[0m\u001b[0;34m\u001b[0m\u001b[0;34m\u001b[0m\u001b[0m\n\u001b[0;32m--> 216\u001b[0;31m         \u001b[0msuper\u001b[0m\u001b[0;34m(\u001b[0m\u001b[0mLikelihoodModel\u001b[0m\u001b[0;34m,\u001b[0m \u001b[0mself\u001b[0m\u001b[0;34m)\u001b[0m\u001b[0;34m.\u001b[0m\u001b[0m__init__\u001b[0m\u001b[0;34m(\u001b[0m\u001b[0mendog\u001b[0m\u001b[0;34m,\u001b[0m \u001b[0mexog\u001b[0m\u001b[0;34m,\u001b[0m \u001b[0;34m**\u001b[0m\u001b[0mkwargs\u001b[0m\u001b[0;34m)\u001b[0m\u001b[0;34m\u001b[0m\u001b[0;34m\u001b[0m\u001b[0m\n\u001b[0m\u001b[1;32m    217\u001b[0m         \u001b[0mself\u001b[0m\u001b[0;34m.\u001b[0m\u001b[0minitialize\u001b[0m\u001b[0;34m(\u001b[0m\u001b[0;34m)\u001b[0m\u001b[0;34m\u001b[0m\u001b[0;34m\u001b[0m\u001b[0m\n\u001b[1;32m    218\u001b[0m \u001b[0;34m\u001b[0m\u001b[0m\n",
            "\u001b[0;32m/usr/local/lib/python3.7/dist-packages/statsmodels/base/model.py\u001b[0m in \u001b[0;36m__init__\u001b[0;34m(self, endog, exog, **kwargs)\u001b[0m\n\u001b[1;32m     66\u001b[0m         \u001b[0mhasconst\u001b[0m \u001b[0;34m=\u001b[0m \u001b[0mkwargs\u001b[0m\u001b[0;34m.\u001b[0m\u001b[0mpop\u001b[0m\u001b[0;34m(\u001b[0m\u001b[0;34m'hasconst'\u001b[0m\u001b[0;34m,\u001b[0m \u001b[0;32mNone\u001b[0m\u001b[0;34m)\u001b[0m\u001b[0;34m\u001b[0m\u001b[0;34m\u001b[0m\u001b[0m\n\u001b[1;32m     67\u001b[0m         self.data = self._handle_data(endog, exog, missing, hasconst,\n\u001b[0;32m---> 68\u001b[0;31m                                       **kwargs)\n\u001b[0m\u001b[1;32m     69\u001b[0m         \u001b[0mself\u001b[0m\u001b[0;34m.\u001b[0m\u001b[0mk_constant\u001b[0m \u001b[0;34m=\u001b[0m \u001b[0mself\u001b[0m\u001b[0;34m.\u001b[0m\u001b[0mdata\u001b[0m\u001b[0;34m.\u001b[0m\u001b[0mk_constant\u001b[0m\u001b[0;34m\u001b[0m\u001b[0;34m\u001b[0m\u001b[0m\n\u001b[1;32m     70\u001b[0m         \u001b[0mself\u001b[0m\u001b[0;34m.\u001b[0m\u001b[0mexog\u001b[0m \u001b[0;34m=\u001b[0m \u001b[0mself\u001b[0m\u001b[0;34m.\u001b[0m\u001b[0mdata\u001b[0m\u001b[0;34m.\u001b[0m\u001b[0mexog\u001b[0m\u001b[0;34m\u001b[0m\u001b[0;34m\u001b[0m\u001b[0m\n",
            "\u001b[0;32m/usr/local/lib/python3.7/dist-packages/statsmodels/base/model.py\u001b[0m in \u001b[0;36m_handle_data\u001b[0;34m(self, endog, exog, missing, hasconst, **kwargs)\u001b[0m\n\u001b[1;32m     89\u001b[0m \u001b[0;34m\u001b[0m\u001b[0m\n\u001b[1;32m     90\u001b[0m     \u001b[0;32mdef\u001b[0m \u001b[0m_handle_data\u001b[0m\u001b[0;34m(\u001b[0m\u001b[0mself\u001b[0m\u001b[0;34m,\u001b[0m \u001b[0mendog\u001b[0m\u001b[0;34m,\u001b[0m \u001b[0mexog\u001b[0m\u001b[0;34m,\u001b[0m \u001b[0mmissing\u001b[0m\u001b[0;34m,\u001b[0m \u001b[0mhasconst\u001b[0m\u001b[0;34m,\u001b[0m \u001b[0;34m**\u001b[0m\u001b[0mkwargs\u001b[0m\u001b[0;34m)\u001b[0m\u001b[0;34m:\u001b[0m\u001b[0;34m\u001b[0m\u001b[0;34m\u001b[0m\u001b[0m\n\u001b[0;32m---> 91\u001b[0;31m         \u001b[0mdata\u001b[0m \u001b[0;34m=\u001b[0m \u001b[0mhandle_data\u001b[0m\u001b[0;34m(\u001b[0m\u001b[0mendog\u001b[0m\u001b[0;34m,\u001b[0m \u001b[0mexog\u001b[0m\u001b[0;34m,\u001b[0m \u001b[0mmissing\u001b[0m\u001b[0;34m,\u001b[0m \u001b[0mhasconst\u001b[0m\u001b[0;34m,\u001b[0m \u001b[0;34m**\u001b[0m\u001b[0mkwargs\u001b[0m\u001b[0;34m)\u001b[0m\u001b[0;34m\u001b[0m\u001b[0;34m\u001b[0m\u001b[0m\n\u001b[0m\u001b[1;32m     92\u001b[0m         \u001b[0;31m# kwargs arrays could have changed, easier to just attach here\u001b[0m\u001b[0;34m\u001b[0m\u001b[0;34m\u001b[0m\u001b[0;34m\u001b[0m\u001b[0m\n\u001b[1;32m     93\u001b[0m         \u001b[0;32mfor\u001b[0m \u001b[0mkey\u001b[0m \u001b[0;32min\u001b[0m \u001b[0mkwargs\u001b[0m\u001b[0;34m:\u001b[0m\u001b[0;34m\u001b[0m\u001b[0;34m\u001b[0m\u001b[0m\n",
            "\u001b[0;32m/usr/local/lib/python3.7/dist-packages/statsmodels/base/data.py\u001b[0m in \u001b[0;36mhandle_data\u001b[0;34m(endog, exog, missing, hasconst, **kwargs)\u001b[0m\n\u001b[1;32m    633\u001b[0m     \u001b[0mklass\u001b[0m \u001b[0;34m=\u001b[0m \u001b[0mhandle_data_class_factory\u001b[0m\u001b[0;34m(\u001b[0m\u001b[0mendog\u001b[0m\u001b[0;34m,\u001b[0m \u001b[0mexog\u001b[0m\u001b[0;34m)\u001b[0m\u001b[0;34m\u001b[0m\u001b[0;34m\u001b[0m\u001b[0m\n\u001b[1;32m    634\u001b[0m     return klass(endog, exog=exog, missing=missing, hasconst=hasconst,\n\u001b[0;32m--> 635\u001b[0;31m                  **kwargs)\n\u001b[0m",
            "\u001b[0;32m/usr/local/lib/python3.7/dist-packages/statsmodels/base/data.py\u001b[0m in \u001b[0;36m__init__\u001b[0;34m(self, endog, exog, missing, hasconst, **kwargs)\u001b[0m\n\u001b[1;32m     78\u001b[0m         \u001b[0mself\u001b[0m\u001b[0;34m.\u001b[0m\u001b[0mconst_idx\u001b[0m \u001b[0;34m=\u001b[0m \u001b[0;32mNone\u001b[0m\u001b[0;34m\u001b[0m\u001b[0;34m\u001b[0m\u001b[0m\n\u001b[1;32m     79\u001b[0m         \u001b[0mself\u001b[0m\u001b[0;34m.\u001b[0m\u001b[0mk_constant\u001b[0m \u001b[0;34m=\u001b[0m \u001b[0;36m0\u001b[0m\u001b[0;34m\u001b[0m\u001b[0;34m\u001b[0m\u001b[0m\n\u001b[0;32m---> 80\u001b[0;31m         \u001b[0mself\u001b[0m\u001b[0;34m.\u001b[0m\u001b[0m_handle_constant\u001b[0m\u001b[0;34m(\u001b[0m\u001b[0mhasconst\u001b[0m\u001b[0;34m)\u001b[0m\u001b[0;34m\u001b[0m\u001b[0;34m\u001b[0m\u001b[0m\n\u001b[0m\u001b[1;32m     81\u001b[0m         \u001b[0mself\u001b[0m\u001b[0;34m.\u001b[0m\u001b[0m_check_integrity\u001b[0m\u001b[0;34m(\u001b[0m\u001b[0;34m)\u001b[0m\u001b[0;34m\u001b[0m\u001b[0;34m\u001b[0m\u001b[0m\n\u001b[1;32m     82\u001b[0m         \u001b[0mself\u001b[0m\u001b[0;34m.\u001b[0m\u001b[0m_cache\u001b[0m \u001b[0;34m=\u001b[0m \u001b[0;34m{\u001b[0m\u001b[0;34m}\u001b[0m\u001b[0;34m\u001b[0m\u001b[0;34m\u001b[0m\u001b[0m\n",
            "\u001b[0;32m/usr/local/lib/python3.7/dist-packages/statsmodels/base/data.py\u001b[0m in \u001b[0;36m_handle_constant\u001b[0;34m(self, hasconst)\u001b[0m\n\u001b[1;32m    122\u001b[0m             \u001b[0;31m# detect where the constant is\u001b[0m\u001b[0;34m\u001b[0m\u001b[0;34m\u001b[0m\u001b[0;34m\u001b[0m\u001b[0m\n\u001b[1;32m    123\u001b[0m             \u001b[0mcheck_implicit\u001b[0m \u001b[0;34m=\u001b[0m \u001b[0;32mFalse\u001b[0m\u001b[0;34m\u001b[0m\u001b[0;34m\u001b[0m\u001b[0m\n\u001b[0;32m--> 124\u001b[0;31m             \u001b[0mptp_\u001b[0m \u001b[0;34m=\u001b[0m \u001b[0mnp\u001b[0m\u001b[0;34m.\u001b[0m\u001b[0mptp\u001b[0m\u001b[0;34m(\u001b[0m\u001b[0mself\u001b[0m\u001b[0;34m.\u001b[0m\u001b[0mexog\u001b[0m\u001b[0;34m,\u001b[0m \u001b[0maxis\u001b[0m\u001b[0;34m=\u001b[0m\u001b[0;36m0\u001b[0m\u001b[0;34m)\u001b[0m\u001b[0;34m\u001b[0m\u001b[0;34m\u001b[0m\u001b[0m\n\u001b[0m\u001b[1;32m    125\u001b[0m             \u001b[0;32mif\u001b[0m \u001b[0;32mnot\u001b[0m \u001b[0mnp\u001b[0m\u001b[0;34m.\u001b[0m\u001b[0misfinite\u001b[0m\u001b[0;34m(\u001b[0m\u001b[0mptp_\u001b[0m\u001b[0;34m)\u001b[0m\u001b[0;34m.\u001b[0m\u001b[0mall\u001b[0m\u001b[0;34m(\u001b[0m\u001b[0;34m)\u001b[0m\u001b[0;34m:\u001b[0m\u001b[0;34m\u001b[0m\u001b[0;34m\u001b[0m\u001b[0m\n\u001b[1;32m    126\u001b[0m                 \u001b[0;32mraise\u001b[0m \u001b[0mMissingDataError\u001b[0m\u001b[0;34m(\u001b[0m\u001b[0;34m'exog contains inf or nans'\u001b[0m\u001b[0;34m)\u001b[0m\u001b[0;34m\u001b[0m\u001b[0;34m\u001b[0m\u001b[0m\n",
            "\u001b[0;32m<__array_function__ internals>\u001b[0m in \u001b[0;36mptp\u001b[0;34m(*args, **kwargs)\u001b[0m\n",
            "\u001b[0;32m/usr/local/lib/python3.7/dist-packages/numpy/core/fromnumeric.py\u001b[0m in \u001b[0;36mptp\u001b[0;34m(a, axis, out, keepdims)\u001b[0m\n\u001b[1;32m   2579\u001b[0m         \u001b[0;32melse\u001b[0m\u001b[0;34m:\u001b[0m\u001b[0;34m\u001b[0m\u001b[0;34m\u001b[0m\u001b[0m\n\u001b[1;32m   2580\u001b[0m             \u001b[0;32mreturn\u001b[0m \u001b[0mptp\u001b[0m\u001b[0;34m(\u001b[0m\u001b[0maxis\u001b[0m\u001b[0;34m=\u001b[0m\u001b[0maxis\u001b[0m\u001b[0;34m,\u001b[0m \u001b[0mout\u001b[0m\u001b[0;34m=\u001b[0m\u001b[0mout\u001b[0m\u001b[0;34m,\u001b[0m \u001b[0;34m**\u001b[0m\u001b[0mkwargs\u001b[0m\u001b[0;34m)\u001b[0m\u001b[0;34m\u001b[0m\u001b[0;34m\u001b[0m\u001b[0m\n\u001b[0;32m-> 2581\u001b[0;31m     \u001b[0;32mreturn\u001b[0m \u001b[0m_methods\u001b[0m\u001b[0;34m.\u001b[0m\u001b[0m_ptp\u001b[0m\u001b[0;34m(\u001b[0m\u001b[0ma\u001b[0m\u001b[0;34m,\u001b[0m \u001b[0maxis\u001b[0m\u001b[0;34m=\u001b[0m\u001b[0maxis\u001b[0m\u001b[0;34m,\u001b[0m \u001b[0mout\u001b[0m\u001b[0;34m=\u001b[0m\u001b[0mout\u001b[0m\u001b[0;34m,\u001b[0m \u001b[0;34m**\u001b[0m\u001b[0mkwargs\u001b[0m\u001b[0;34m)\u001b[0m\u001b[0;34m\u001b[0m\u001b[0;34m\u001b[0m\u001b[0m\n\u001b[0m\u001b[1;32m   2582\u001b[0m \u001b[0;34m\u001b[0m\u001b[0m\n\u001b[1;32m   2583\u001b[0m \u001b[0;34m\u001b[0m\u001b[0m\n",
            "\u001b[0;32m/usr/local/lib/python3.7/dist-packages/numpy/core/_methods.py\u001b[0m in \u001b[0;36m_ptp\u001b[0;34m(a, axis, out, keepdims)\u001b[0m\n\u001b[1;32m    246\u001b[0m     return um.subtract(\n\u001b[1;32m    247\u001b[0m         \u001b[0mumr_maximum\u001b[0m\u001b[0;34m(\u001b[0m\u001b[0ma\u001b[0m\u001b[0;34m,\u001b[0m \u001b[0maxis\u001b[0m\u001b[0;34m,\u001b[0m \u001b[0;32mNone\u001b[0m\u001b[0;34m,\u001b[0m \u001b[0mout\u001b[0m\u001b[0;34m,\u001b[0m \u001b[0mkeepdims\u001b[0m\u001b[0;34m)\u001b[0m\u001b[0;34m,\u001b[0m\u001b[0;34m\u001b[0m\u001b[0;34m\u001b[0m\u001b[0m\n\u001b[0;32m--> 248\u001b[0;31m         \u001b[0mumr_minimum\u001b[0m\u001b[0;34m(\u001b[0m\u001b[0ma\u001b[0m\u001b[0;34m,\u001b[0m \u001b[0maxis\u001b[0m\u001b[0;34m,\u001b[0m \u001b[0;32mNone\u001b[0m\u001b[0;34m,\u001b[0m \u001b[0;32mNone\u001b[0m\u001b[0;34m,\u001b[0m \u001b[0mkeepdims\u001b[0m\u001b[0;34m)\u001b[0m\u001b[0;34m,\u001b[0m\u001b[0;34m\u001b[0m\u001b[0;34m\u001b[0m\u001b[0m\n\u001b[0m\u001b[1;32m    249\u001b[0m         \u001b[0mout\u001b[0m\u001b[0;34m\u001b[0m\u001b[0;34m\u001b[0m\u001b[0m\n\u001b[1;32m    250\u001b[0m     )\n",
            "\u001b[0;31mKeyboardInterrupt\u001b[0m: "
          ]
        }
      ]
    },
    {
      "cell_type": "code",
      "metadata": {
        "id": "XzAMKv4BJFNS"
      },
      "source": [
        "results = pd.read_pickle('/content/drive/MyDrive/datasets/results_651')"
      ],
      "execution_count": 5,
      "outputs": []
    },
    {
      "cell_type": "code",
      "metadata": {
        "colab": {
          "base_uri": "https://localhost:8080/",
          "height": 517
        },
        "id": "2r0RZifnJPzI",
        "outputId": "31ff93ac-0ec2-48bf-ab39-4c0170796291"
      },
      "source": [
        "plt.figure(figsize=(16,12))\n",
        "\n",
        "plt.subplot(2, 2, 1)\n",
        "results.rss.plot(title='RSS', lw=1, color='blue')\n",
        "\n",
        "plt.subplot(2, 2, 2)\n",
        "max_r2a = results.r2a.argmax()-1\n",
        "results.r2a.plot(title='Adj. $R^2$', markevery=[max_r2a], marker='D', lw=1, color='red')\n",
        "\n",
        "plt.subplot(2, 2, 3)\n",
        "min_aic = results.aic.argmin()-1\n",
        "results.aic.plot(title='AIC', markevery=[min_aic], marker='D', lw=1, color='green')\n",
        "\n",
        "plt.subplot(2, 2, 4)\n",
        "min_bic = results.bic.argmin()-1\n",
        "results.bic.plot(title='BIC', markevery=[min_bic], marker='D', lw=1, color='purple')\n"
      ],
      "execution_count": 6,
      "outputs": [
        {
          "output_type": "execute_result",
          "data": {
            "text/plain": [
              "<matplotlib.axes._subplots.AxesSubplot at 0x7f2d38ae3f50>"
            ]
          },
          "metadata": {
            "tags": []
          },
          "execution_count": 6
        },
        {
          "output_type": "display_data",
          "data": {
            "image/png": "[encoded data removed]",
            "text/plain": [
              "<Figure size 1152x864 with 4 Axes>"
            ]
          },
          "metadata": {
            "tags": []
          }
        }
      ]
    },
    {
      "cell_type": "markdown",
      "metadata": {
        "id": "1UDY3trxTJUq"
      },
      "source": [
        "###6.5.2. Foward and Backward Stepwise Selection"
      ]
    },
    {
      "cell_type": "code",
      "metadata": {
        "id": "419KPus7TEyD"
      },
      "source": [
        "def processSubset(feature_set):\n",
        "  #Fit model on feature_set and calculate RSS\n",
        "  model = sm.OLS(y, X[list(feature_set)])\n",
        "  regr = model.fit()\n",
        "  RSS = regr.ssr\n",
        "  return {'model': regr, 'RSS': RSS}"
      ],
      "execution_count": 7,
      "outputs": []
    },
    {
      "cell_type": "code",
      "metadata": {
        "id": "eBLQRYDCTkH1"
      },
      "source": [
        "def foward(predictors):\n",
        "\n",
        "  #Pull out predictors we still need to process\n",
        "  remaining_predictors = [p for p in X.columns if p not in predictors]\n",
        "\n",
        "  results = []\n",
        "\n",
        "  for p in remaining_predictors:\n",
        "    results.append(processSubset(predictors+[p]))\n",
        "\n",
        "  #Wrap everything up in a nic dataframe\n",
        "  models = pd.DataFrame(results)\n",
        "\n",
        "  #Choose the model with the lowest RSS\n",
        "  best_model = models.loc[models['RSS'].argmin()]\n",
        "\n",
        "  #Return the best model, along with some other useful information about the model\n",
        "  return best_model\n",
        "\n",
        "def backward(predictors):\n",
        "\n",
        "  results = []\n",
        "\n",
        "  for combo in combinations(predictors, len(predictors)-1):\n",
        "    results.append(processSubset(combo))\n",
        "\n",
        "  #Wrap everything up in a nice dataframe\n",
        "  models = pd.DataFrame(results)\n",
        "\n",
        "  #Choose the model with the lowest RSS\n",
        "  best_model = models.loc[models['RSS'].argmin()]\n",
        "\n",
        "  return best_model"
      ],
      "execution_count": 8,
      "outputs": []
    },
    {
      "cell_type": "markdown",
      "metadata": {
        "id": "EYVeT8s-UxmP"
      },
      "source": [
        "Foward Selection:"
      ]
    },
    {
      "cell_type": "code",
      "metadata": {
        "colab": {
          "base_uri": "https://localhost:8080/"
        },
        "id": "bU-3TciuUt-6",
        "outputId": "9cb5e64d-056b-43c9-d2c4-6b4c58fbafbd"
      },
      "source": [
        "models2 = pd.DataFrame(columns=['RSS', 'model'])\n",
        "\n",
        "predictors = []\n",
        "\n",
        "for i in range(1,len(X.columns)+1):\n",
        "  models2.loc[i] = foward(predictors)\n",
        "  predictors = models2.loc[i]['model'].model.exog_names\n",
        "\n",
        "bic_f = []\n",
        "\n",
        "for m in models2.model:\n",
        "  bic_f.append(m.bic)\n",
        "\n",
        "np.array(bic_f).argmin()"
      ],
      "execution_count": 9,
      "outputs": [
        {
          "output_type": "execute_result",
          "data": {
            "text/plain": [
              "5"
            ]
          },
          "metadata": {
            "tags": []
          },
          "execution_count": 9
        }
      ]
    },
    {
      "cell_type": "code",
      "metadata": {
        "colab": {
          "base_uri": "https://localhost:8080/"
        },
        "id": "7w2LWt5olqKa",
        "outputId": "6d989547-47a8-4ff9-d991-f8d4075009a0"
      },
      "source": [
        "predictors, bic_f"
      ],
      "execution_count": 10,
      "outputs": [
        {
          "output_type": "execute_result",
          "data": {
            "text/plain": [
              "(['Hits',\n",
              "  'CRBI',\n",
              "  'PutOuts',\n",
              "  'AtBat',\n",
              "  'Division',\n",
              "  'Walks',\n",
              "  'CWalks',\n",
              "  'CRuns',\n",
              "  'CAtBat',\n",
              "  'Assists',\n",
              "  'Runs',\n",
              "  'League',\n",
              "  'HmRun',\n",
              "  'Errors',\n",
              "  'NewLeague',\n",
              "  'RBI',\n",
              "  'CHits',\n",
              "  'Years',\n",
              "  'CHmRun'],\n",
              " [3910.437405792022,\n",
              "  3826.372838539718,\n",
              "  3820.626997734044,\n",
              "  3815.4605878697303,\n",
              "  3810.7331322124824,\n",
              "  3806.8883425646886,\n",
              "  3809.8597898274984,\n",
              "  3807.1870192596657,\n",
              "  3809.3387521975437,\n",
              "  3811.923580691154,\n",
              "  3816.5713995697747,\n",
              "  3821.5191822804245,\n",
              "  3826.8028102714034,\n",
              "  3832.1077814957293,\n",
              "  3837.456294954363,\n",
              "  3842.8214798303275,\n",
              "  3848.225835229507,\n",
              "  3853.720486189592,\n",
              "  3859.2816820271046])"
            ]
          },
          "metadata": {
            "tags": []
          },
          "execution_count": 10
        }
      ]
    },
    {
      "cell_type": "markdown",
      "metadata": {
        "id": "HBbLKWizlxsZ"
      },
      "source": [
        "Run backward stepwise selection"
      ]
    },
    {
      "cell_type": "code",
      "metadata": {
        "colab": {
          "base_uri": "https://localhost:8080/"
        },
        "id": "AKMGjQnhl1hJ",
        "outputId": "4ece9f72-1ca1-4521-bbc4-ca14b3858e92"
      },
      "source": [
        "models3 = pd.DataFrame(columns=['RSS','model'], index = range(1, len(X.columns)))\n",
        "\n",
        "predictors = X.columns\n",
        "\n",
        "while(len(predictors) > 1):\n",
        "  models3.loc[len(predictors)-1] = backward(predictors)\n",
        "  predictors = models3.loc[len(predictors)-1]['model'].model.exog_names\n",
        "\n",
        "bic_b = []\n",
        "\n",
        "for m in models3.model:\n",
        "  bic_b.append(m.bic)\n",
        "\n",
        "np.array(bic_b).argmin()"
      ],
      "execution_count": 11,
      "outputs": [
        {
          "output_type": "execute_result",
          "data": {
            "text/plain": [
              "7"
            ]
          },
          "metadata": {
            "tags": []
          },
          "execution_count": 11
        }
      ]
    },
    {
      "cell_type": "markdown",
      "metadata": {
        "id": "tYinS36wmgG8"
      },
      "source": [
        "###6.5.3 Choosing Among Models Using the Validation Set Approach and Cross-Validation"
      ]
    },
    {
      "cell_type": "markdown",
      "metadata": {
        "id": "471wyif4mpm4"
      },
      "source": [
        "Foward stepwise selection using validation set approach"
      ]
    },
    {
      "cell_type": "code",
      "metadata": {
        "id": "kh1UVQZUmnuJ"
      },
      "source": [
        "from sklearn.model_selection import train_test_split\n",
        "from sklearn.metrics import mean_squared_error\n",
        "\n",
        "X_train, X_test, y_train, y_test = train_test_split(X, y, test_size=0.5, random_state=3)"
      ],
      "execution_count": 12,
      "outputs": []
    },
    {
      "cell_type": "code",
      "metadata": {
        "id": "hOc6L8Zem_ho"
      },
      "source": [
        "def processSubset(feature_set, X_train, y_train, X_test, y_test):\n",
        "  #Fit model on feature_set and calculate RSS\n",
        "  model = sm.OLS(y_train,X_train[list(feature_set)])\n",
        "  regr = model.fit()\n",
        "  RSS = ((regr.predict(X_test[list(feature_set)]) - y_test) ** 2).sum()\n",
        "  return {'model':regr, 'RSS':RSS}\n"
      ],
      "execution_count": 13,
      "outputs": []
    },
    {
      "cell_type": "code",
      "metadata": {
        "id": "_EKuH86XnmdA"
      },
      "source": [
        "def foward(predictors, X_train, y_train, X_test, y_test):\n",
        "\n",
        "  #Pull out predictors we still need to process\n",
        "  remaining_predictors = [p for p in X_train.columns if p not in predictors]\n",
        "\n",
        "  results =[]\n",
        "\n",
        "  for p in remaining_predictors:\n",
        "    results.append(processSubset(predictors+[p], X_train, y_train, X_test, y_test))\n",
        "\n",
        "  #Wrap everything up in a nice dataframe\n",
        "  models = pd.DataFrame(results)\n",
        "\n",
        "  #Choose the model with the highest RSS\n",
        "  best_model = models.loc[models['RSS'].argmin()]\n",
        "\n",
        "  #Return the best model, along with some other useful information about the model\n",
        "  return best_model"
      ],
      "execution_count": 14,
      "outputs": []
    },
    {
      "cell_type": "code",
      "metadata": {
        "id": "htX54CgYoaVO"
      },
      "source": [
        "models_train = pd.DataFrame(columns=['RSS', 'model'])\n",
        "\n",
        "predictors = []\n",
        "\n",
        "for i in range(1,len(X.columns)+1):\n",
        "  models_train.loc[i] = foward(predictors, X_train, y_train, X_test, y_test)\n",
        "  predictors = models_train.loc[i]['model'].model.exog_names"
      ],
      "execution_count": 15,
      "outputs": []
    },
    {
      "cell_type": "code",
      "metadata": {
        "colab": {
          "base_uri": "https://localhost:8080/",
          "height": 372
        },
        "id": "qy6WWLCXpFUQ",
        "outputId": "8181988d-1977-4041-bcf4-d398f8ccbf08"
      },
      "source": [
        "plt.plot(models_train['RSS'])\n",
        "plt.xlabel('# Predictors')\n",
        "plt.ylabel('RSS')\n",
        "plt.plot(models_train['RSS'].argmin(), models_train['RSS'].min(), 'or');"
      ],
      "execution_count": 16,
      "outputs": [
        {
          "output_type": "display_data",
          "data": {
            "image/png": "[encoded data removed]",
            "text/plain": [
              "<Figure size 576x396 with 1 Axes>"
            ]
          },
          "metadata": {
            "tags": []
          }
        }
      ]
    },
    {
      "cell_type": "markdown",
      "metadata": {
        "id": "dv1C3NLypbEa"
      },
      "source": [
        "###6.6.1 Ridge Regression"
      ]
    },
    {
      "cell_type": "markdown",
      "metadata": {
        "id": "T-RI56lCpfWQ"
      },
      "source": [
        "Apply ridge regression"
      ]
    },
    {
      "cell_type": "code",
      "metadata": {
        "id": "QDobi1sbphRz"
      },
      "source": [
        "from sklearn.linear_model import Ridge, RidgeCV, Lasso, LassoCV\n",
        "from sklearn.preprocessing import scale\n",
        "\n",
        "grid = 10 ** np.linspace(3,-2,100)\n",
        "\n",
        "ridge_model = Ridge(normalize=True)\n",
        "coefs = []\n",
        "\n",
        "for a in grid:\n",
        "  ridge_model.set_params(alpha=a)\n",
        "  ridge_model.fit(X,y)\n",
        "  coefs.append(ridge_model.coef_)"
      ],
      "execution_count": 17,
      "outputs": []
    },
    {
      "cell_type": "markdown",
      "metadata": {
        "id": "g28RKmEHsy2M"
      },
      "source": [
        "Results of ridge regression"
      ]
    },
    {
      "cell_type": "code",
      "metadata": {
        "colab": {
          "base_uri": "https://localhost:8080/"
        },
        "id": "ZJcneqLXrPF6",
        "outputId": "44373ece-49d3-4427-8f1e-b9caea8f681d"
      },
      "source": [
        "grid[49]"
      ],
      "execution_count": 44,
      "outputs": [
        {
          "output_type": "execute_result",
          "data": {
            "text/plain": [
              "3.351602650938841"
            ]
          },
          "metadata": {
            "tags": []
          },
          "execution_count": 44
        }
      ]
    },
    {
      "cell_type": "code",
      "metadata": {
        "colab": {
          "base_uri": "https://localhost:8080/"
        },
        "id": "goaiRw5Js3E6",
        "outputId": "52a510a1-f400-4d1d-cd29-7fb0aa7e2942"
      },
      "source": [
        "pd.Series(coefs[49], index=X.columns)"
      ],
      "execution_count": 45,
      "outputs": [
        {
          "output_type": "execute_result",
          "data": {
            "text/plain": [
              "AtBat                       0.11\n",
              "Hits                        0.49\n",
              "HmRun                       1.32\n",
              "Runs                        0.76\n",
              "RBI                         0.73\n",
              "                    ...         \n",
              "Division                   33.63\n",
              "PutOuts                     0.08\n",
              "Assists                     0.01\n",
              "Errors                     -0.30\n",
              "NewLeague                  -5.36\n",
              "Length: 19, dtype: float64"
            ]
          },
          "metadata": {
            "tags": []
          },
          "execution_count": 45
        }
      ]
    },
    {
      "cell_type": "code",
      "metadata": {
        "colab": {
          "base_uri": "https://localhost:8080/",
          "height": 382
        },
        "id": "QB8ButNss-6J",
        "outputId": "39842859-7167-43af-cf5c-cec8516e7e09"
      },
      "source": [
        "ax = plt.gca()\n",
        "ax.plot(grid, coefs)\n",
        "ax.set_xscale('log')\n",
        "\n",
        "plt.axis('tight')\n",
        "plt.xlabel('alpha')\n",
        "plt.ylabel('weights')"
      ],
      "execution_count": 46,
      "outputs": [
        {
          "output_type": "execute_result",
          "data": {
            "text/plain": [
              "Text(0, 0.5, 'weights')"
            ]
          },
          "metadata": {
            "tags": []
          },
          "execution_count": 46
        },
        {
          "output_type": "display_data",
          "data": {
            "image/png": "[encoded data removed]",
            "text/plain": [
              "<Figure size 576x396 with 1 Axes>"
            ]
          },
          "metadata": {
            "tags": []
          }
        }
      ]
    },
    {
      "cell_type": "markdown",
      "metadata": {
        "id": "Z4DYx1VVtx2m"
      },
      "source": [
        "Good ridge model using validation set approach"
      ]
    },
    {
      "cell_type": "code",
      "metadata": {
        "id": "QDlzyGrTt1nE"
      },
      "source": [
        "from sklearn.model_selection import train_test_split\n",
        "from sklearn.metrics import mean_squared_error\n",
        "\n",
        "X_train, X_test, y_train, y_test = train_test_split(X, y, test_size=0.5, random_state=1)"
      ],
      "execution_count": 51,
      "outputs": []
    },
    {
      "cell_type": "code",
      "metadata": {
        "colab": {
          "base_uri": "https://localhost:8080/"
        },
        "id": "Nj-EKFyUuIGA",
        "outputId": "45b54654-3603-4d0a-9d19-78506c618eca"
      },
      "source": [
        "# \"good\" ridge model\n",
        "ridge2 = Ridge(alpha=4, normalize=True)\n",
        "ridge2_fit = ridge2.fit(X_train, y_train)\n",
        "y_pred2 = ridge2.predict(X_test)\n",
        "\n",
        "print(pd.Series(ridge2_fit.coef_, index=X.columns))\n",
        "print('MSE:', mean_squared_error(y_test, y_pred2))"
      ],
      "execution_count": 52,
      "outputs": [
        {
          "output_type": "stream",
          "text": [
            "AtBat                       0.10\n",
            "Hits                        0.45\n",
            "HmRun                       1.41\n",
            "Runs                        0.66\n",
            "RBI                         0.84\n",
            "                    ...         \n",
            "Division                   30.77\n",
            "PutOuts                     0.10\n",
            "Assists                    -0.00\n",
            "Errors                      0.27\n",
            "NewLeague                  -4.12\n",
            "Length: 19, dtype: float64\n",
            "MSE: 106216.52238005563\n"
          ],
          "name": "stdout"
        }
      ]
    },
    {
      "cell_type": "markdown",
      "metadata": {
        "id": "VEOKtG3ourWo"
      },
      "source": [
        "Very high lambda"
      ]
    },
    {
      "cell_type": "code",
      "metadata": {
        "colab": {
          "base_uri": "https://localhost:8080/"
        },
        "id": "CXruxFFXutFA",
        "outputId": "173b1a37-f0f6-44d9-cdf0-c57a16ab1ed4"
      },
      "source": [
        "#very high lambda\n",
        "ridge3 = Ridge(alpha=1e10, normalize=True)\n",
        "ridge3_fit = ridge3.fit(X_train, y_train)\n",
        "y_pred3 = ridge3.predict(X_test)\n",
        "\n",
        "print(pd.Series(ridge3_fit.coef_, index=X.columns))\n",
        "print('MSE:', mean_squared_error(y_test, y_pred3))"
      ],
      "execution_count": 54,
      "outputs": [
        {
          "output_type": "stream",
          "text": [
            "AtBat                       0.00\n",
            "Hits                        0.00\n",
            "HmRun                       0.00\n",
            "Runs                        0.00\n",
            "RBI                         0.00\n",
            "                    ...         \n",
            "Division                    0.00\n",
            "PutOuts                     0.00\n",
            "Assists                    -0.00\n",
            "Errors                      0.00\n",
            "NewLeague                   0.00\n",
            "Length: 19, dtype: float64\n",
            "MSE: 172862.23580379886\n"
          ],
          "name": "stdout"
        }
      ]
    },
    {
      "cell_type": "markdown",
      "metadata": {
        "id": "JoVZDW-gvLz5"
      },
      "source": [
        "Lambda = 0 -> least square regression"
      ]
    },
    {
      "cell_type": "code",
      "metadata": {
        "colab": {
          "base_uri": "https://localhost:8080/"
        },
        "id": "cNcYHgmXvQP-",
        "outputId": "b8c545ba-e320-4ae8-f16f-6e156178371c"
      },
      "source": [
        "# lambda=0 -> OLS\n",
        "ridge4 = Ridge(alpha=0, normalize=True)\n",
        "ridge4_fit = ridge4.fit(X_train, y_train)\n",
        "y_pred4 = ridge4.predict(X_test)\n",
        "\n",
        "print(pd.Series(ridge4_fit.coef_, index=X.columns))\n",
        "print('MSE:', mean_squared_error(y_test, y_pred4))"
      ],
      "execution_count": 56,
      "outputs": [
        {
          "output_type": "stream",
          "text": [
            "AtBat                      -1.82\n",
            "Hits                        4.26\n",
            "HmRun                      -4.77\n",
            "Runs                       -0.04\n",
            "RBI                         3.98\n",
            "                    ...         \n",
            "Division                  113.74\n",
            "PutOuts                     0.42\n",
            "Assists                     0.46\n",
            "Errors                     -6.02\n",
            "NewLeague                  81.93\n",
            "Length: 19, dtype: float64\n",
            "MSE: 116690.46856660125\n"
          ],
          "name": "stdout"
        }
      ]
    },
    {
      "cell_type": "markdown",
      "metadata": {
        "id": "TZEGq1EvvrxT"
      },
      "source": [
        "Cross-validated ridge"
      ]
    },
    {
      "cell_type": "code",
      "metadata": {
        "colab": {
          "base_uri": "https://localhost:8080/"
        },
        "id": "2adC_Z9KvtkI",
        "outputId": "b18d58f7-990d-48a6-e080-4016d4dbcc54"
      },
      "source": [
        "#cross validated ridge\n",
        "ridge_cv = RidgeCV(alphas=grid, normalize=True, scoring='neg_mean_squared_error')\n",
        "ridge_cv.fit(X_train, y_train)\n",
        "ridge_cv.alpha_"
      ],
      "execution_count": 57,
      "outputs": [
        {
          "output_type": "execute_result",
          "data": {
            "text/plain": [
              "0.5857020818056667"
            ]
          },
          "metadata": {
            "tags": []
          },
          "execution_count": 57
        }
      ]
    },
    {
      "cell_type": "code",
      "metadata": {
        "colab": {
          "base_uri": "https://localhost:8080/"
        },
        "id": "X9RY9hk4yvTo",
        "outputId": "b19bd0d6-91ae-4432-fb63-be51513a295d"
      },
      "source": [
        "#cv_lambda\n",
        "ridge5 = Ridge(alpha=ridge_cv.alpha_, normalize=True)\n",
        "ridge5_fit = ridge5.fit(X_train, y_train)\n",
        "y_pred5 = ridge5.predict(X_test)\n",
        "\n",
        "print(pd.Series(ridge5_fit.coef_, index=X.columns))\n",
        "print('MSE:', mean_squared_error(y_test, y_pred5))"
      ],
      "execution_count": 58,
      "outputs": [
        {
          "output_type": "stream",
          "text": [
            "AtBat                      -0.01\n",
            "Hits                        0.86\n",
            "HmRun                      -0.26\n",
            "Runs                        0.72\n",
            "RBI                         1.31\n",
            "                    ...         \n",
            "Division                   91.61\n",
            "PutOuts                     0.28\n",
            "Assists                    -0.02\n",
            "Errors                     -0.30\n",
            "NewLeague                  -9.99\n",
            "Length: 19, dtype: float64\n",
            "MSE: 99805.36301929559\n"
          ],
          "name": "stdout"
        }
      ]
    },
    {
      "cell_type": "markdown",
      "metadata": {
        "id": "ecj48DOqzX0c"
      },
      "source": [
        "###6.6.2 The Lasso"
      ]
    },
    {
      "cell_type": "markdown",
      "metadata": {
        "id": "icnNBJ9LG8ZM"
      },
      "source": [
        "Results of Lasso"
      ]
    },
    {
      "cell_type": "code",
      "metadata": {
        "id": "74_4E1q7G6uZ"
      },
      "source": [
        "from sklearn.preprocessing import scale\n",
        "\n",
        "grid = 10 ** np.linspace(3,-2,100)\n",
        "\n",
        "lasso_model = Lasso(normalize=True, max_iter=10000) #max_iter=1000 for removing ConvergenceWarning\n",
        "coefs = []\n",
        "\n",
        "for a in grid:\n",
        "  lasso_model.set_params(alpha=a)\n",
        "  lasso_model.fit(scale(X_train), y_train)\n",
        "  coefs.append(lasso_model.coef_)\n"
      ],
      "execution_count": 24,
      "outputs": []
    },
    {
      "cell_type": "code",
      "metadata": {
        "colab": {
          "base_uri": "https://localhost:8080/",
          "height": 365
        },
        "id": "-jw7Q8ScH3qR",
        "outputId": "bddf15e5-d36b-4731-f4d1-ee4fd53a75e7"
      },
      "source": [
        "ax = plt.gca()\n",
        "ax.plot(grid, coefs)\n",
        "ax.set_xscale('log')\n",
        "\n",
        "plt.axis('tight')\n",
        "plt.xlabel('alpha')\n",
        "plt.ylabel('weights');"
      ],
      "execution_count": 26,
      "outputs": [
        {
          "output_type": "display_data",
          "data": {
            "image/png": "[encoded data removed]",
            "text/plain": [
              "<Figure size 576x396 with 1 Axes>"
            ]
          },
          "metadata": {
            "tags": []
          }
        }
      ]
    },
    {
      "cell_type": "markdown",
      "metadata": {
        "id": "LRQ6zQwyI7X2"
      },
      "source": [
        ""
      ]
    },
    {
      "cell_type": "markdown",
      "metadata": {
        "id": "FAIFJuAUI3jK"
      },
      "source": [
        "Cross-validated Lasso (10-fold)"
      ]
    },
    {
      "cell_type": "code",
      "metadata": {
        "colab": {
          "base_uri": "https://localhost:8080/"
        },
        "id": "QbO7kDfOI7KS",
        "outputId": "3ef7d8cd-2d62-4a01-d82e-655df648693f"
      },
      "source": [
        "lasso_cv = LassoCV(alphas=grid, max_iter=100000, normalize=True, cv=10)\n",
        "lasso_cv.fit(X_train, y_train)\n",
        "lasso_cv.alpha_"
      ],
      "execution_count": 27,
      "outputs": [
        {
          "output_type": "execute_result",
          "data": {
            "text/plain": [
              "0.03199267137797385"
            ]
          },
          "metadata": {
            "tags": []
          },
          "execution_count": 27
        }
      ]
    },
    {
      "cell_type": "code",
      "metadata": {
        "colab": {
          "base_uri": "https://localhost:8080/"
        },
        "id": "GMp0qDl0JKMw",
        "outputId": "b68407de-70d6-4d24-ad79-55122c71c67b"
      },
      "source": [
        "lasso2 = Lasso(alpha=lasso_cv.alpha_, normalize=True, max_iter=10000)\n",
        "lasso2_fit = lasso2.fit(X_train, y_train)\n",
        "y_pred2 = lasso2_fit.predict(X_test)\n",
        "\n",
        "print(pd.Series(lasso2_fit.coef_, index=X.columns))\n",
        "print('MSE:', mean_squared_error(y_test, y_pred2))"
      ],
      "execution_count": 28,
      "outputs": [
        {
          "output_type": "stream",
          "text": [
            "AtBat                      -1.58\n",
            "Hits                        6.72\n",
            "HmRun                      16.69\n",
            "Runs                       -4.73\n",
            "RBI                        -5.75\n",
            "                    ...         \n",
            "Division                  128.59\n",
            "PutOuts                     0.17\n",
            "Assists                     0.50\n",
            "Errors                     -1.64\n",
            "NewLeague                  69.61\n",
            "Length: 19, dtype: float64\n",
            "MSE: 120545.37850368311\n"
          ],
          "name": "stdout"
        }
      ]
    },
    {
      "cell_type": "markdown",
      "metadata": {
        "id": "5s1AV-p9JtcT"
      },
      "source": [
        "###6.7.1 Principal Components Regression"
      ]
    },
    {
      "cell_type": "markdown",
      "metadata": {
        "id": "9nzZDwMZLRLZ"
      },
      "source": [
        "Scikitlearn for principle component regression"
      ]
    },
    {
      "cell_type": "code",
      "metadata": {
        "id": "qd4b46vuLUL7"
      },
      "source": [
        "from sklearn.preprocessing import scale\n",
        "from sklearn.model_selection import train_test_split, KFold, cross_val_score\n",
        "from sklearn.decomposition import PCA\n",
        "from sklearn.linear_model import LinearRegression\n",
        "from sklearn.cross_decomposition import PLSSVD, PLSRegression\n",
        "from sklearn.metrics import mean_squared_error"
      ],
      "execution_count": 30,
      "outputs": []
    },
    {
      "cell_type": "code",
      "metadata": {
        "colab": {
          "base_uri": "https://localhost:8080/",
          "height": 427
        },
        "id": "tnJYW6NZLtgZ",
        "outputId": "52a0fd58-b08d-49a2-f900-7517c69a60bf"
      },
      "source": [
        "pca =  PCA()\n",
        "X_pca = pca.fit_transform(scale(X))\n",
        "pd.DataFrame(X_pca)"
      ],
      "execution_count": 31,
      "outputs": [
        {
          "output_type": "execute_result",
          "data": {
            "text/html": [
              "<div>\n",
              "<style scoped>\n",
              "    .dataframe tbody tr th:only-of-type {\n",
              "        vertical-align: middle;\n",
              "    }\n",
              "\n",
              "    .dataframe tbody tr th {\n",
              "        vertical-align: top;\n",
              "    }\n",
              "\n",
              "    .dataframe thead th {\n",
              "        text-align: right;\n",
              "    }\n",
              "</style>\n",
              "<table border=\"1\" class=\"dataframe\">\n",
              "  <thead>\n",
              "    <tr style=\"text-align: right;\">\n",
              "      <th></th>\n",
              "      <th>0</th>\n",
              "      <th>1</th>\n",
              "      <th>2</th>\n",
              "      <th>3</th>\n",
              "      <th>4</th>\n",
              "      <th>5</th>\n",
              "      <th>...</th>\n",
              "      <th>13</th>\n",
              "      <th>14</th>\n",
              "      <th>15</th>\n",
              "      <th>16</th>\n",
              "      <th>17</th>\n",
              "      <th>18</th>\n",
              "    </tr>\n",
              "  </thead>\n",
              "  <tbody>\n",
              "    <tr>\n",
              "      <th>0</th>\n",
              "      <td>-0.01</td>\n",
              "      <td>1.87</td>\n",
              "      <td>1.27</td>\n",
              "      <td>-0.94</td>\n",
              "      <td>1.11</td>\n",
              "      <td>1.21</td>\n",
              "      <td>...</td>\n",
              "      <td>0.39</td>\n",
              "      <td>0.06</td>\n",
              "      <td>0.14</td>\n",
              "      <td>0.08</td>\n",
              "      <td>0.04</td>\n",
              "      <td>-0.02</td>\n",
              "    </tr>\n",
              "    <tr>\n",
              "      <th>1</th>\n",
              "      <td>0.41</td>\n",
              "      <td>-2.43</td>\n",
              "      <td>-0.91</td>\n",
              "      <td>-0.26</td>\n",
              "      <td>1.23</td>\n",
              "      <td>1.83</td>\n",
              "      <td>...</td>\n",
              "      <td>-0.02</td>\n",
              "      <td>0.07</td>\n",
              "      <td>0.16</td>\n",
              "      <td>0.04</td>\n",
              "      <td>0.01</td>\n",
              "      <td>-0.00</td>\n",
              "    </tr>\n",
              "    <tr>\n",
              "      <th>2</th>\n",
              "      <td>3.47</td>\n",
              "      <td>0.83</td>\n",
              "      <td>0.56</td>\n",
              "      <td>-1.62</td>\n",
              "      <td>-0.86</td>\n",
              "      <td>-1.03</td>\n",
              "      <td>...</td>\n",
              "      <td>-0.38</td>\n",
              "      <td>0.23</td>\n",
              "      <td>0.01</td>\n",
              "      <td>-0.22</td>\n",
              "      <td>0.04</td>\n",
              "      <td>-0.07</td>\n",
              "    </tr>\n",
              "    <tr>\n",
              "      <th>3</th>\n",
              "      <td>-2.56</td>\n",
              "      <td>-0.23</td>\n",
              "      <td>0.52</td>\n",
              "      <td>-2.18</td>\n",
              "      <td>-0.82</td>\n",
              "      <td>1.49</td>\n",
              "      <td>...</td>\n",
              "      <td>0.03</td>\n",
              "      <td>0.04</td>\n",
              "      <td>0.05</td>\n",
              "      <td>-0.04</td>\n",
              "      <td>0.01</td>\n",
              "      <td>-0.01</td>\n",
              "    </tr>\n",
              "    <tr>\n",
              "      <th>4</th>\n",
              "      <td>1.03</td>\n",
              "      <td>-1.57</td>\n",
              "      <td>1.33</td>\n",
              "      <td>3.49</td>\n",
              "      <td>0.98</td>\n",
              "      <td>0.51</td>\n",
              "      <td>...</td>\n",
              "      <td>-0.09</td>\n",
              "      <td>0.04</td>\n",
              "      <td>0.01</td>\n",
              "      <td>-0.05</td>\n",
              "      <td>0.13</td>\n",
              "      <td>-0.07</td>\n",
              "    </tr>\n",
              "    <tr>\n",
              "      <th>...</th>\n",
              "      <td>...</td>\n",
              "      <td>...</td>\n",
              "      <td>...</td>\n",
              "      <td>...</td>\n",
              "      <td>...</td>\n",
              "      <td>...</td>\n",
              "      <td>...</td>\n",
              "      <td>...</td>\n",
              "      <td>...</td>\n",
              "      <td>...</td>\n",
              "      <td>...</td>\n",
              "      <td>...</td>\n",
              "      <td>...</td>\n",
              "    </tr>\n",
              "    <tr>\n",
              "      <th>258</th>\n",
              "      <td>-0.33</td>\n",
              "      <td>-0.17</td>\n",
              "      <td>0.78</td>\n",
              "      <td>-1.54</td>\n",
              "      <td>-1.04</td>\n",
              "      <td>-0.31</td>\n",
              "      <td>...</td>\n",
              "      <td>-0.16</td>\n",
              "      <td>0.23</td>\n",
              "      <td>-0.22</td>\n",
              "      <td>0.13</td>\n",
              "      <td>-0.06</td>\n",
              "      <td>-0.01</td>\n",
              "    </tr>\n",
              "    <tr>\n",
              "      <th>259</th>\n",
              "      <td>3.25</td>\n",
              "      <td>-0.54</td>\n",
              "      <td>1.21</td>\n",
              "      <td>2.75</td>\n",
              "      <td>-1.20</td>\n",
              "      <td>0.83</td>\n",
              "      <td>...</td>\n",
              "      <td>0.32</td>\n",
              "      <td>-0.14</td>\n",
              "      <td>0.01</td>\n",
              "      <td>-0.15</td>\n",
              "      <td>-0.05</td>\n",
              "      <td>-0.06</td>\n",
              "    </tr>\n",
              "    <tr>\n",
              "      <th>260</th>\n",
              "      <td>-1.09</td>\n",
              "      <td>-0.75</td>\n",
              "      <td>-0.94</td>\n",
              "      <td>1.07</td>\n",
              "      <td>0.71</td>\n",
              "      <td>-0.64</td>\n",
              "      <td>...</td>\n",
              "      <td>0.09</td>\n",
              "      <td>0.06</td>\n",
              "      <td>-0.10</td>\n",
              "      <td>-0.08</td>\n",
              "      <td>0.07</td>\n",
              "      <td>0.01</td>\n",
              "    </tr>\n",
              "    <tr>\n",
              "      <th>261</th>\n",
              "      <td>1.98</td>\n",
              "      <td>-2.18</td>\n",
              "      <td>-0.28</td>\n",
              "      <td>-0.22</td>\n",
              "      <td>-0.69</td>\n",
              "      <td>3.51</td>\n",
              "      <td>...</td>\n",
              "      <td>-0.23</td>\n",
              "      <td>0.02</td>\n",
              "      <td>-0.26</td>\n",
              "      <td>-0.01</td>\n",
              "      <td>0.02</td>\n",
              "      <td>-0.01</td>\n",
              "    </tr>\n",
              "    <tr>\n",
              "      <th>262</th>\n",
              "      <td>1.83</td>\n",
              "      <td>-0.30</td>\n",
              "      <td>-1.06</td>\n",
              "      <td>0.49</td>\n",
              "      <td>0.92</td>\n",
              "      <td>0.28</td>\n",
              "      <td>...</td>\n",
              "      <td>0.02</td>\n",
              "      <td>0.66</td>\n",
              "      <td>-0.19</td>\n",
              "      <td>-0.30</td>\n",
              "      <td>-0.08</td>\n",
              "      <td>-0.04</td>\n",
              "    </tr>\n",
              "  </tbody>\n",
              "</table>\n",
              "<p>263 rows × 19 columns</p>\n",
              "</div>"
            ],
            "text/plain": [
              "                      0                    1                    2   \\\n",
              "0                  -0.01                 1.87                 1.27   \n",
              "1                   0.41                -2.43                -0.91   \n",
              "2                   3.47                 0.83                 0.56   \n",
              "3                  -2.56                -0.23                 0.52   \n",
              "4                   1.03                -1.57                 1.33   \n",
              "..                   ...                  ...                  ...   \n",
              "258                -0.33                -0.17                 0.78   \n",
              "259                 3.25                -0.54                 1.21   \n",
              "260                -1.09                -0.75                -0.94   \n",
              "261                 1.98                -2.18                -0.28   \n",
              "262                 1.83                -0.30                -1.06   \n",
              "\n",
              "                      3                    4                    5   ...  \\\n",
              "0                  -0.94                 1.11                 1.21  ...   \n",
              "1                  -0.26                 1.23                 1.83  ...   \n",
              "2                  -1.62                -0.86                -1.03  ...   \n",
              "3                  -2.18                -0.82                 1.49  ...   \n",
              "4                   3.49                 0.98                 0.51  ...   \n",
              "..                   ...                  ...                  ...  ...   \n",
              "258                -1.54                -1.04                -0.31  ...   \n",
              "259                 2.75                -1.20                 0.83  ...   \n",
              "260                 1.07                 0.71                -0.64  ...   \n",
              "261                -0.22                -0.69                 3.51  ...   \n",
              "262                 0.49                 0.92                 0.28  ...   \n",
              "\n",
              "                      13                   14                   15  \\\n",
              "0                   0.39                 0.06                 0.14   \n",
              "1                  -0.02                 0.07                 0.16   \n",
              "2                  -0.38                 0.23                 0.01   \n",
              "3                   0.03                 0.04                 0.05   \n",
              "4                  -0.09                 0.04                 0.01   \n",
              "..                   ...                  ...                  ...   \n",
              "258                -0.16                 0.23                -0.22   \n",
              "259                 0.32                -0.14                 0.01   \n",
              "260                 0.09                 0.06                -0.10   \n",
              "261                -0.23                 0.02                -0.26   \n",
              "262                 0.02                 0.66                -0.19   \n",
              "\n",
              "                      16                   17                   18  \n",
              "0                   0.08                 0.04                -0.02  \n",
              "1                   0.04                 0.01                -0.00  \n",
              "2                  -0.22                 0.04                -0.07  \n",
              "3                  -0.04                 0.01                -0.01  \n",
              "4                  -0.05                 0.13                -0.07  \n",
              "..                   ...                  ...                  ...  \n",
              "258                 0.13                -0.06                -0.01  \n",
              "259                -0.15                -0.05                -0.06  \n",
              "260                -0.08                 0.07                 0.01  \n",
              "261                -0.01                 0.02                -0.01  \n",
              "262                -0.30                -0.08                -0.04  \n",
              "\n",
              "[263 rows x 19 columns]"
            ]
          },
          "metadata": {
            "tags": []
          },
          "execution_count": 31
        }
      ]
    },
    {
      "cell_type": "markdown",
      "metadata": {
        "id": "gallUWJCJw_7"
      },
      "source": [
        "Selection of number of principle components based on 10-fold CV"
      ]
    },
    {
      "cell_type": "code",
      "metadata": {
        "colab": {
          "base_uri": "https://localhost:8080/",
          "height": 361
        },
        "id": "DIjG4bECJJfi",
        "outputId": "a9ef1ef1-26a0-46fb-ccd5-2248cc195b56"
      },
      "source": [
        "# 10-fold CV, with shuffle\n",
        "n = len(X_pca)\n",
        "k10 = KFold(n_splits=10, shuffle=True, random_state=42)\n",
        "\n",
        "lin_reg = LinearRegression()\n",
        "rmse = []\n",
        "\n",
        "#MSE with only the intercept\n",
        "score = -1 * cross_val_score(lin_reg, np.ones((n,1)), y, cv=k10, scoring='neg_mean_squared_error').mean()\n",
        "rmse.append(np.sqrt(score))\n",
        "\n",
        "#MSE for the 19 principle components\n",
        "for i in np.arange(1,20):\n",
        "  score = -1 * cross_val_score(lin_reg, X_pca[:,:i], y, cv=k10, scoring='neg_mean_squared_error').mean()\n",
        "  rmse.append(np.sqrt(score))\n",
        "\n",
        "min_rmse = np.array(rmse).argmin()\n",
        "\n",
        "plt.plot(rmse, '-D')\n",
        "plt.plot(rmse, markevery=[min_rmse], marker='X', lw=0, color='red')\n",
        "plt.xlabel('# of PC')\n",
        "plt.ylabel('RMSE');"
      ],
      "execution_count": 33,
      "outputs": [
        {
          "output_type": "display_data",
          "data": {
            "image/png": "[encoded data removed]",
            "text/plain": [
              "<Figure size 576x396 with 1 Axes>"
            ]
          },
          "metadata": {
            "tags": []
          }
        }
      ]
    },
    {
      "cell_type": "markdown",
      "metadata": {
        "id": "5OSHxRLaMAgU"
      },
      "source": [
        "###6.7.2 Partial Least Squares"
      ]
    },
    {
      "cell_type": "markdown",
      "metadata": {
        "id": "xYQYC8pRMEZs"
      },
      "source": [
        "Partial least squares with 10-fold CV"
      ]
    },
    {
      "cell_type": "code",
      "metadata": {
        "colab": {
          "base_uri": "https://localhost:8080/",
          "height": 361
        },
        "id": "ZRrpmXOmMDcH",
        "outputId": "2d3d35be-2db2-4b92-e7f2-83710e8e7a5e"
      },
      "source": [
        "# 10-fold CV, with shuffle\n",
        "n = len(X_train)\n",
        "k10 = KFold(n_splits=10, shuffle=True, random_state=1)\n",
        "\n",
        "rmse = []\n",
        "\n",
        "for i in np.arange(1, 20):\n",
        "  pls = PLSRegression(n_components=i)\n",
        "  score = -1 * cross_val_score(pls, scale(X_train), y_train, cv=k10, scoring='neg_mean_squared_error').mean()\n",
        "  rmse.append(np.sqrt(score))\n",
        "\n",
        "min_rmse = np.array(rmse).argmin()\n",
        "\n",
        "plt.plot(rmse, '-D')\n",
        "plt.plot(rmse, markevery=[min_rmse], marker='X', lw=0, color='red')\n",
        "plt.xlabel('# of PC')\n",
        "plt.ylabel('RMSE')\n",
        "plt.xticks([0, 5, 10, 15, 20]);"
      ],
      "execution_count": 34,
      "outputs": [
        {
          "output_type": "display_data",
          "data": {
            "image/png": "[encoded data removed]",
            "text/plain": [
              "<Figure size 576x396 with 1 Axes>"
            ]
          },
          "metadata": {
            "tags": []
          }
        }
      ]
    }
  ]
}