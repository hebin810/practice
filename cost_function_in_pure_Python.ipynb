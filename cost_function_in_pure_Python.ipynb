{
  "nbformat": 4,
  "nbformat_minor": 0,
  "metadata": {
    "colab": {
      "name": "cost_function_in_pure_Python.ipynb",
      "provenance": [],
      "authorship_tag": "ABX9TyN5ATkg7FLeaDhJNbQMa1YG",
      "include_colab_link": true
    },
    "kernelspec": {
      "name": "python3",
      "display_name": "Python 3"
    }
  },
  "cells": [
    {
      "cell_type": "markdown",
      "metadata": {
        "id": "view-in-github",
        "colab_type": "text"
      },
      "source": [
        "<a href=\"https://colab.research.google.com/github/spolopsky/ML-practice/blob/main/cost_function_in_pure_Python.ipynb\" target=\"_parent\"><img src=\"https://colab.research.google.com/assets/colab-badge.svg\" alt=\"Open In Colab\"/></a>"
      ]
    },
    {
      "cell_type": "code",
      "metadata": {
        "colab": {
          "base_uri": "https://localhost:8080/"
        },
        "id": "pYivYbl39oUQ",
        "outputId": "b185e8dc-c166-443a-edee-7a22f70b4f4a"
      },
      "source": [
        "import numpy as np\r\n",
        "\r\n",
        "X = np.array([1,2,3])\r\n",
        "Y = np.array([1,2,3])\r\n",
        "\r\n",
        "def cost_func(W, X, Y):\r\n",
        "  c = 0\r\n",
        "  for i in range(len(X)):\r\n",
        "    c += (W * X[i] - Y[i]) ** 2\r\n",
        "  return c / len(X)\r\n",
        "\r\n",
        "for feed_W in np.linspace(-3, 5, num=15):\r\n",
        "  curr_cost = cost_func(feed_W, X, Y)\r\n",
        "  print(\"{:6.3f} | {:10.5f}\".format(feed_W, curr_cost))    "
      ],
      "execution_count": 3,
      "outputs": [
        {
          "output_type": "stream",
          "text": [
            "-3.000 |   74.66667\n",
            "-2.429 |   54.85714\n",
            "-1.857 |   38.09524\n",
            "-1.286 |   24.38095\n",
            "-0.714 |   13.71429\n",
            "-0.143 |    6.09524\n",
            " 0.429 |    1.52381\n",
            " 1.000 |    0.00000\n",
            " 1.571 |    1.52381\n",
            " 2.143 |    6.09524\n",
            " 2.714 |   13.71429\n",
            " 3.286 |   24.38095\n",
            " 3.857 |   38.09524\n",
            " 4.429 |   54.85714\n",
            " 5.000 |   74.66667\n"
          ],
          "name": "stdout"
        }
      ]
    }
  ]
}